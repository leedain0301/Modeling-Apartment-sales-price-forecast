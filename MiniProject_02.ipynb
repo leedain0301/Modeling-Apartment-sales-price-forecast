{
  "nbformat": 4,
  "nbformat_minor": 0,
  "metadata": {
    "colab": {
      "provenance": [],
      "mount_file_id": "1mZBYYKn3-GZAA00LnsQAlbD39gIBJplr",
      "authorship_tag": "ABX9TyPPW9wqAC4iKapb1BW1fYQN",
      "include_colab_link": true
    },
    "kernelspec": {
      "name": "python3",
      "display_name": "Python 3"
    },
    "language_info": {
      "name": "python"
    }
  },
  "cells": [
    {
      "cell_type": "markdown",
      "metadata": {
        "id": "view-in-github",
        "colab_type": "text"
      },
      "source": [
        "<a href=\"https://colab.research.google.com/github/leedain0301/Data_MiniProject_02/blob/main/MiniProject_02.ipynb\" target=\"_parent\"><img src=\"https://colab.research.google.com/assets/colab-badge.svg\" alt=\"Open In Colab\"/></a>"
      ]
    },
    {
      "cell_type": "markdown",
      "source": [
        "# 컬럼 설명\n",
        "\n",
        "#   train.csv / test.csv <br>\n",
        ">  : 서울/부산 지역의 1,100,000여개 거래 데이터, 아파트 거래일, 지역, 전용면적, 실 거래가 등의 정보\n",
        "\n",
        "- **features**\n",
        "  *   transaction_id : 아파트 거래 유일키키\n",
        "  *   apartment_id : 아파트 아이디\n",
        "  *   city : 도시\n",
        "  *   dong : 동\n",
        "  *   jibun : 지번\n",
        "  *   apt : 아파트단지 이름\n",
        "  *   addr_kr : 주소\n",
        "  *   exclusive_use_area : 전용면적\n",
        "  *   year_of_completion : 설립일자\n",
        "  *   transaction_year_month : 거래년월\n",
        "  *   transaction_date : 거래날짜\n",
        "  *   floor : 층\n",
        "  *   transaction_real_price : 실거래가(train 만 존재)\n",
        "\n",
        "\n",
        "#   park.csv<br>\n",
        ">  : 서울/부산 지역의 공원에 대한 정보\n",
        "\n",
        "- **features**\n",
        "\n",
        "  *  city : 도시 이름\n",
        "  *  gu : 구\n",
        "  *  dong : 동\n",
        "  *  park_name : 공원 이름\n",
        "  *  park_type : 공원 이름\n",
        "  *  park_area : 공원의 넓이\n",
        "  *  park_exercise_facility : 공원보유 운동시설\n",
        "  *  park_entertainment_facility : 공원보유 유희시설\n",
        "  *  park_benefit_facility : 공원보유 편익시설\n",
        "  *  park_cultural_facitiy : 공원보유 교양시설\n",
        "  *  park_facility_other : 공원보유 기타시설\n",
        "  *  park_open_year : 공원 개장년도\n",
        "  *  reference_date : 데이터 기준일자(해당 데이터가 기록된 일자)\n",
        "\n",
        "\n",
        "# day_care_center.csv<br>\n",
        ">  : 서울/부산 지역의 어린이집에 대한 정보\n",
        "\n",
        "- **features**\n",
        "\n",
        "  *  city : 도시 이름\n",
        "  *  gu : 구\n",
        "  *  dong : 동\n",
        "  *  day_care_name : 어린이집 이름\n",
        "  *  day_care_type : 어린이집 종류\n",
        "  *  day_care_baby_num : 정원수\n",
        "  *  teacher_num : 보육교직원수\n",
        "  *  nursing_room_num : 보육실수\n",
        "  *  playground_num : 놀이터수\n",
        "  *  CCTV_num : CCTV 설치수\n",
        "  *  is_commuting_vehicle : 통학차량 운영여부\n",
        "  *  reference_date : 데이터 기준일자(해당 데이터가 기록된 일자)\n",
        "\n",
        "<br>\n",
        "\n",
        "---\n",
        "\n",
        "<br>\n",
        "\n",
        "\n",
        "\n",
        "\n",
        "\n",
        "\n",
        "\n"
      ],
      "metadata": {
        "id": "jr6md_ad2PJV"
      }
    },
    {
      "cell_type": "code",
      "execution_count": 1,
      "metadata": {
        "colab": {
          "base_uri": "https://localhost:8080/"
        },
        "id": "f14GBfFoclvk",
        "outputId": "2bd74823-8dc9-45c4-db83-a3bd38887438"
      },
      "outputs": [
        {
          "output_type": "stream",
          "name": "stdout",
          "text": [
            "train.csv. Shape:  (1216553, 13)\n",
            "test.csv. Shape:  (5463, 12)\n"
          ]
        }
      ],
      "source": [
        "import numpy as np\n",
        "import pandas as pd\n",
        "import matplotlib.pyplot as plt\n",
        "import seaborn as sns\n",
        "import timeit\n",
        "import sklearn\n",
        "import warnings\n",
        "warnings.filterwarnings('ignore')\n",
        "import sys\n",
        "\n",
        "train_data = pd.read_csv('/content/drive/MyDrive/02.Colab Notebooks/MiniProject_02/train.csv')\n",
        "test_data = pd.read_csv('/content/drive/MyDrive/02.Colab Notebooks/MiniProject_02/test.csv')\n",
        "\n",
        "print('train.csv. Shape: ',train_data.shape)\n",
        "print('test.csv. Shape: ', test_data.shape)"
      ]
    },
    {
      "cell_type": "code",
      "source": [
        "train_data.drop(train_data[(train_data['city'] == '부산광역시')].index, inplace=True)\n",
        "test_data.drop(test_data[(train_data['city'] == '부산광역시')].index, inplace=True)\n"
      ],
      "metadata": {
        "id": "oWaTrsTnDmGO"
      },
      "execution_count": 2,
      "outputs": []
    },
    {
      "cell_type": "code",
      "source": [
        "train_data.head()"
      ],
      "metadata": {
        "colab": {
          "base_uri": "https://localhost:8080/",
          "height": 617
        },
        "id": "JSVRYnMkmUps",
        "outputId": "86ddb6fa-e03b-4d21-d35a-2adc1658489f"
      },
      "execution_count": 3,
      "outputs": [
        {
          "output_type": "execute_result",
          "data": {
            "text/plain": [
              "   transaction_id  apartment_id   city dong   jibun       apt  \\\n",
              "0               0          7622  서울특별시  신교동    6-13  신현(101동)   \n",
              "1               1          5399  서울특별시  필운동     142    사직파크맨션   \n",
              "2               2          3578  서울특별시  필운동   174-1    두레엘리시안   \n",
              "3               3         10957  서울특별시  내수동      95     파크팰리스   \n",
              "4               4         10639  서울특별시  내수동  110-15      킹스매너   \n",
              "\n",
              "             addr_kr  exclusive_use_area  year_of_completion  \\\n",
              "0  신교동 6-13 신현(101동)               84.82                2002   \n",
              "1     필운동 142 사직파크맨션               99.17                1973   \n",
              "2   필운동 174-1 두레엘리시안               84.74                2007   \n",
              "3       내수동 95 파크팰리스              146.39                2003   \n",
              "4    내수동 110-15 킹스매너              194.43                2004   \n",
              "\n",
              "   transaction_year_month transaction_date  floor  transaction_real_price  \n",
              "0                  200801            21~31      2                   37500  \n",
              "1                  200801             1~10      6                   20000  \n",
              "2                  200801             1~10      6                   38500  \n",
              "3                  200801            11~20     15                  118000  \n",
              "4                  200801            21~31      3                  120000  "
            ],
            "text/html": [
              "\n",
              "  <div id=\"df-00bf7579-14d0-40fe-b3f9-9d61ec367789\">\n",
              "    <div class=\"colab-df-container\">\n",
              "      <div>\n",
              "<style scoped>\n",
              "    .dataframe tbody tr th:only-of-type {\n",
              "        vertical-align: middle;\n",
              "    }\n",
              "\n",
              "    .dataframe tbody tr th {\n",
              "        vertical-align: top;\n",
              "    }\n",
              "\n",
              "    .dataframe thead th {\n",
              "        text-align: right;\n",
              "    }\n",
              "</style>\n",
              "<table border=\"1\" class=\"dataframe\">\n",
              "  <thead>\n",
              "    <tr style=\"text-align: right;\">\n",
              "      <th></th>\n",
              "      <th>transaction_id</th>\n",
              "      <th>apartment_id</th>\n",
              "      <th>city</th>\n",
              "      <th>dong</th>\n",
              "      <th>jibun</th>\n",
              "      <th>apt</th>\n",
              "      <th>addr_kr</th>\n",
              "      <th>exclusive_use_area</th>\n",
              "      <th>year_of_completion</th>\n",
              "      <th>transaction_year_month</th>\n",
              "      <th>transaction_date</th>\n",
              "      <th>floor</th>\n",
              "      <th>transaction_real_price</th>\n",
              "    </tr>\n",
              "  </thead>\n",
              "  <tbody>\n",
              "    <tr>\n",
              "      <th>0</th>\n",
              "      <td>0</td>\n",
              "      <td>7622</td>\n",
              "      <td>서울특별시</td>\n",
              "      <td>신교동</td>\n",
              "      <td>6-13</td>\n",
              "      <td>신현(101동)</td>\n",
              "      <td>신교동 6-13 신현(101동)</td>\n",
              "      <td>84.82</td>\n",
              "      <td>2002</td>\n",
              "      <td>200801</td>\n",
              "      <td>21~31</td>\n",
              "      <td>2</td>\n",
              "      <td>37500</td>\n",
              "    </tr>\n",
              "    <tr>\n",
              "      <th>1</th>\n",
              "      <td>1</td>\n",
              "      <td>5399</td>\n",
              "      <td>서울특별시</td>\n",
              "      <td>필운동</td>\n",
              "      <td>142</td>\n",
              "      <td>사직파크맨션</td>\n",
              "      <td>필운동 142 사직파크맨션</td>\n",
              "      <td>99.17</td>\n",
              "      <td>1973</td>\n",
              "      <td>200801</td>\n",
              "      <td>1~10</td>\n",
              "      <td>6</td>\n",
              "      <td>20000</td>\n",
              "    </tr>\n",
              "    <tr>\n",
              "      <th>2</th>\n",
              "      <td>2</td>\n",
              "      <td>3578</td>\n",
              "      <td>서울특별시</td>\n",
              "      <td>필운동</td>\n",
              "      <td>174-1</td>\n",
              "      <td>두레엘리시안</td>\n",
              "      <td>필운동 174-1 두레엘리시안</td>\n",
              "      <td>84.74</td>\n",
              "      <td>2007</td>\n",
              "      <td>200801</td>\n",
              "      <td>1~10</td>\n",
              "      <td>6</td>\n",
              "      <td>38500</td>\n",
              "    </tr>\n",
              "    <tr>\n",
              "      <th>3</th>\n",
              "      <td>3</td>\n",
              "      <td>10957</td>\n",
              "      <td>서울특별시</td>\n",
              "      <td>내수동</td>\n",
              "      <td>95</td>\n",
              "      <td>파크팰리스</td>\n",
              "      <td>내수동 95 파크팰리스</td>\n",
              "      <td>146.39</td>\n",
              "      <td>2003</td>\n",
              "      <td>200801</td>\n",
              "      <td>11~20</td>\n",
              "      <td>15</td>\n",
              "      <td>118000</td>\n",
              "    </tr>\n",
              "    <tr>\n",
              "      <th>4</th>\n",
              "      <td>4</td>\n",
              "      <td>10639</td>\n",
              "      <td>서울특별시</td>\n",
              "      <td>내수동</td>\n",
              "      <td>110-15</td>\n",
              "      <td>킹스매너</td>\n",
              "      <td>내수동 110-15 킹스매너</td>\n",
              "      <td>194.43</td>\n",
              "      <td>2004</td>\n",
              "      <td>200801</td>\n",
              "      <td>21~31</td>\n",
              "      <td>3</td>\n",
              "      <td>120000</td>\n",
              "    </tr>\n",
              "  </tbody>\n",
              "</table>\n",
              "</div>\n",
              "      <button class=\"colab-df-convert\" onclick=\"convertToInteractive('df-00bf7579-14d0-40fe-b3f9-9d61ec367789')\"\n",
              "              title=\"Convert this dataframe to an interactive table.\"\n",
              "              style=\"display:none;\">\n",
              "        \n",
              "  <svg xmlns=\"http://www.w3.org/2000/svg\" height=\"24px\"viewBox=\"0 0 24 24\"\n",
              "       width=\"24px\">\n",
              "    <path d=\"M0 0h24v24H0V0z\" fill=\"none\"/>\n",
              "    <path d=\"M18.56 5.44l.94 2.06.94-2.06 2.06-.94-2.06-.94-.94-2.06-.94 2.06-2.06.94zm-11 1L8.5 8.5l.94-2.06 2.06-.94-2.06-.94L8.5 2.5l-.94 2.06-2.06.94zm10 10l.94 2.06.94-2.06 2.06-.94-2.06-.94-.94-2.06-.94 2.06-2.06.94z\"/><path d=\"M17.41 7.96l-1.37-1.37c-.4-.4-.92-.59-1.43-.59-.52 0-1.04.2-1.43.59L10.3 9.45l-7.72 7.72c-.78.78-.78 2.05 0 2.83L4 21.41c.39.39.9.59 1.41.59.51 0 1.02-.2 1.41-.59l7.78-7.78 2.81-2.81c.8-.78.8-2.07 0-2.86zM5.41 20L4 18.59l7.72-7.72 1.47 1.35L5.41 20z\"/>\n",
              "  </svg>\n",
              "      </button>\n",
              "      \n",
              "  <style>\n",
              "    .colab-df-container {\n",
              "      display:flex;\n",
              "      flex-wrap:wrap;\n",
              "      gap: 12px;\n",
              "    }\n",
              "\n",
              "    .colab-df-convert {\n",
              "      background-color: #E8F0FE;\n",
              "      border: none;\n",
              "      border-radius: 50%;\n",
              "      cursor: pointer;\n",
              "      display: none;\n",
              "      fill: #1967D2;\n",
              "      height: 32px;\n",
              "      padding: 0 0 0 0;\n",
              "      width: 32px;\n",
              "    }\n",
              "\n",
              "    .colab-df-convert:hover {\n",
              "      background-color: #E2EBFA;\n",
              "      box-shadow: 0px 1px 2px rgba(60, 64, 67, 0.3), 0px 1px 3px 1px rgba(60, 64, 67, 0.15);\n",
              "      fill: #174EA6;\n",
              "    }\n",
              "\n",
              "    [theme=dark] .colab-df-convert {\n",
              "      background-color: #3B4455;\n",
              "      fill: #D2E3FC;\n",
              "    }\n",
              "\n",
              "    [theme=dark] .colab-df-convert:hover {\n",
              "      background-color: #434B5C;\n",
              "      box-shadow: 0px 1px 3px 1px rgba(0, 0, 0, 0.15);\n",
              "      filter: drop-shadow(0px 1px 2px rgba(0, 0, 0, 0.3));\n",
              "      fill: #FFFFFF;\n",
              "    }\n",
              "  </style>\n",
              "\n",
              "      <script>\n",
              "        const buttonEl =\n",
              "          document.querySelector('#df-00bf7579-14d0-40fe-b3f9-9d61ec367789 button.colab-df-convert');\n",
              "        buttonEl.style.display =\n",
              "          google.colab.kernel.accessAllowed ? 'block' : 'none';\n",
              "\n",
              "        async function convertToInteractive(key) {\n",
              "          const element = document.querySelector('#df-00bf7579-14d0-40fe-b3f9-9d61ec367789');\n",
              "          const dataTable =\n",
              "            await google.colab.kernel.invokeFunction('convertToInteractive',\n",
              "                                                     [key], {});\n",
              "          if (!dataTable) return;\n",
              "\n",
              "          const docLinkHtml = 'Like what you see? Visit the ' +\n",
              "            '<a target=\"_blank\" href=https://colab.research.google.com/notebooks/data_table.ipynb>data table notebook</a>'\n",
              "            + ' to learn more about interactive tables.';\n",
              "          element.innerHTML = '';\n",
              "          dataTable['output_type'] = 'display_data';\n",
              "          await google.colab.output.renderOutput(dataTable, element);\n",
              "          const docLink = document.createElement('div');\n",
              "          docLink.innerHTML = docLinkHtml;\n",
              "          element.appendChild(docLink);\n",
              "        }\n",
              "      </script>\n",
              "    </div>\n",
              "  </div>\n",
              "  "
            ]
          },
          "metadata": {},
          "execution_count": 3
        }
      ]
    },
    {
      "cell_type": "code",
      "source": [
        "test_data.head()"
      ],
      "metadata": {
        "colab": {
          "base_uri": "https://localhost:8080/",
          "height": 495
        },
        "id": "KycOcMikTm-X",
        "outputId": "0f5b591a-754c-4836-ed39-d85016ac23f0"
      },
      "execution_count": 18,
      "outputs": [
        {
          "output_type": "execute_result",
          "data": {
            "text/plain": [
              "   transaction_id  apartment_id   city dong   jibun              apt  \\\n",
              "0         1145756         10453  서울특별시   목동     938               청학   \n",
              "1         1198704           989  부산광역시  초량동  1143-8             고관맨션   \n",
              "2         1222384          8597  부산광역시  괴정동  447-13             우림그린   \n",
              "3         1179897         11086  서울특별시  대치동  1007-2  풍림아이원4차(1007-2)   \n",
              "4         1223091          2121  부산광역시  다대동    1670         다대롯데캐슬블루   \n",
              "\n",
              "                      addr_kr  exclusive_use_area  year_of_completion  \\\n",
              "0                   목동 938 청학             35.5500                2002   \n",
              "1             초량동 1143-8 고관맨션             68.7200                1977   \n",
              "2             괴정동 447-13 우림그린             72.5400                1989   \n",
              "3  대치동 1007-2 풍림아이원4차(1007-2)            111.5400                2004   \n",
              "4           다대동 1670 다대롯데캐슬블루            119.6398                2014   \n",
              "\n",
              "   transaction_year_month transaction_date  floor  \n",
              "0                  201711            11~20      2  \n",
              "1                  201708            21~31      2  \n",
              "2                  201710            11~20      2  \n",
              "3                  201707             1~10     10  \n",
              "4                  201712            11~20     21  "
            ],
            "text/html": [
              "\n",
              "  <div id=\"df-4548944d-6c77-4488-ba64-3626e52ba17b\">\n",
              "    <div class=\"colab-df-container\">\n",
              "      <div>\n",
              "<style scoped>\n",
              "    .dataframe tbody tr th:only-of-type {\n",
              "        vertical-align: middle;\n",
              "    }\n",
              "\n",
              "    .dataframe tbody tr th {\n",
              "        vertical-align: top;\n",
              "    }\n",
              "\n",
              "    .dataframe thead th {\n",
              "        text-align: right;\n",
              "    }\n",
              "</style>\n",
              "<table border=\"1\" class=\"dataframe\">\n",
              "  <thead>\n",
              "    <tr style=\"text-align: right;\">\n",
              "      <th></th>\n",
              "      <th>transaction_id</th>\n",
              "      <th>apartment_id</th>\n",
              "      <th>city</th>\n",
              "      <th>dong</th>\n",
              "      <th>jibun</th>\n",
              "      <th>apt</th>\n",
              "      <th>addr_kr</th>\n",
              "      <th>exclusive_use_area</th>\n",
              "      <th>year_of_completion</th>\n",
              "      <th>transaction_year_month</th>\n",
              "      <th>transaction_date</th>\n",
              "      <th>floor</th>\n",
              "    </tr>\n",
              "  </thead>\n",
              "  <tbody>\n",
              "    <tr>\n",
              "      <th>0</th>\n",
              "      <td>1145756</td>\n",
              "      <td>10453</td>\n",
              "      <td>서울특별시</td>\n",
              "      <td>목동</td>\n",
              "      <td>938</td>\n",
              "      <td>청학</td>\n",
              "      <td>목동 938 청학</td>\n",
              "      <td>35.5500</td>\n",
              "      <td>2002</td>\n",
              "      <td>201711</td>\n",
              "      <td>11~20</td>\n",
              "      <td>2</td>\n",
              "    </tr>\n",
              "    <tr>\n",
              "      <th>1</th>\n",
              "      <td>1198704</td>\n",
              "      <td>989</td>\n",
              "      <td>부산광역시</td>\n",
              "      <td>초량동</td>\n",
              "      <td>1143-8</td>\n",
              "      <td>고관맨션</td>\n",
              "      <td>초량동 1143-8 고관맨션</td>\n",
              "      <td>68.7200</td>\n",
              "      <td>1977</td>\n",
              "      <td>201708</td>\n",
              "      <td>21~31</td>\n",
              "      <td>2</td>\n",
              "    </tr>\n",
              "    <tr>\n",
              "      <th>2</th>\n",
              "      <td>1222384</td>\n",
              "      <td>8597</td>\n",
              "      <td>부산광역시</td>\n",
              "      <td>괴정동</td>\n",
              "      <td>447-13</td>\n",
              "      <td>우림그린</td>\n",
              "      <td>괴정동 447-13 우림그린</td>\n",
              "      <td>72.5400</td>\n",
              "      <td>1989</td>\n",
              "      <td>201710</td>\n",
              "      <td>11~20</td>\n",
              "      <td>2</td>\n",
              "    </tr>\n",
              "    <tr>\n",
              "      <th>3</th>\n",
              "      <td>1179897</td>\n",
              "      <td>11086</td>\n",
              "      <td>서울특별시</td>\n",
              "      <td>대치동</td>\n",
              "      <td>1007-2</td>\n",
              "      <td>풍림아이원4차(1007-2)</td>\n",
              "      <td>대치동 1007-2 풍림아이원4차(1007-2)</td>\n",
              "      <td>111.5400</td>\n",
              "      <td>2004</td>\n",
              "      <td>201707</td>\n",
              "      <td>1~10</td>\n",
              "      <td>10</td>\n",
              "    </tr>\n",
              "    <tr>\n",
              "      <th>4</th>\n",
              "      <td>1223091</td>\n",
              "      <td>2121</td>\n",
              "      <td>부산광역시</td>\n",
              "      <td>다대동</td>\n",
              "      <td>1670</td>\n",
              "      <td>다대롯데캐슬블루</td>\n",
              "      <td>다대동 1670 다대롯데캐슬블루</td>\n",
              "      <td>119.6398</td>\n",
              "      <td>2014</td>\n",
              "      <td>201712</td>\n",
              "      <td>11~20</td>\n",
              "      <td>21</td>\n",
              "    </tr>\n",
              "  </tbody>\n",
              "</table>\n",
              "</div>\n",
              "      <button class=\"colab-df-convert\" onclick=\"convertToInteractive('df-4548944d-6c77-4488-ba64-3626e52ba17b')\"\n",
              "              title=\"Convert this dataframe to an interactive table.\"\n",
              "              style=\"display:none;\">\n",
              "        \n",
              "  <svg xmlns=\"http://www.w3.org/2000/svg\" height=\"24px\"viewBox=\"0 0 24 24\"\n",
              "       width=\"24px\">\n",
              "    <path d=\"M0 0h24v24H0V0z\" fill=\"none\"/>\n",
              "    <path d=\"M18.56 5.44l.94 2.06.94-2.06 2.06-.94-2.06-.94-.94-2.06-.94 2.06-2.06.94zm-11 1L8.5 8.5l.94-2.06 2.06-.94-2.06-.94L8.5 2.5l-.94 2.06-2.06.94zm10 10l.94 2.06.94-2.06 2.06-.94-2.06-.94-.94-2.06-.94 2.06-2.06.94z\"/><path d=\"M17.41 7.96l-1.37-1.37c-.4-.4-.92-.59-1.43-.59-.52 0-1.04.2-1.43.59L10.3 9.45l-7.72 7.72c-.78.78-.78 2.05 0 2.83L4 21.41c.39.39.9.59 1.41.59.51 0 1.02-.2 1.41-.59l7.78-7.78 2.81-2.81c.8-.78.8-2.07 0-2.86zM5.41 20L4 18.59l7.72-7.72 1.47 1.35L5.41 20z\"/>\n",
              "  </svg>\n",
              "      </button>\n",
              "      \n",
              "  <style>\n",
              "    .colab-df-container {\n",
              "      display:flex;\n",
              "      flex-wrap:wrap;\n",
              "      gap: 12px;\n",
              "    }\n",
              "\n",
              "    .colab-df-convert {\n",
              "      background-color: #E8F0FE;\n",
              "      border: none;\n",
              "      border-radius: 50%;\n",
              "      cursor: pointer;\n",
              "      display: none;\n",
              "      fill: #1967D2;\n",
              "      height: 32px;\n",
              "      padding: 0 0 0 0;\n",
              "      width: 32px;\n",
              "    }\n",
              "\n",
              "    .colab-df-convert:hover {\n",
              "      background-color: #E2EBFA;\n",
              "      box-shadow: 0px 1px 2px rgba(60, 64, 67, 0.3), 0px 1px 3px 1px rgba(60, 64, 67, 0.15);\n",
              "      fill: #174EA6;\n",
              "    }\n",
              "\n",
              "    [theme=dark] .colab-df-convert {\n",
              "      background-color: #3B4455;\n",
              "      fill: #D2E3FC;\n",
              "    }\n",
              "\n",
              "    [theme=dark] .colab-df-convert:hover {\n",
              "      background-color: #434B5C;\n",
              "      box-shadow: 0px 1px 3px 1px rgba(0, 0, 0, 0.15);\n",
              "      filter: drop-shadow(0px 1px 2px rgba(0, 0, 0, 0.3));\n",
              "      fill: #FFFFFF;\n",
              "    }\n",
              "  </style>\n",
              "\n",
              "      <script>\n",
              "        const buttonEl =\n",
              "          document.querySelector('#df-4548944d-6c77-4488-ba64-3626e52ba17b button.colab-df-convert');\n",
              "        buttonEl.style.display =\n",
              "          google.colab.kernel.accessAllowed ? 'block' : 'none';\n",
              "\n",
              "        async function convertToInteractive(key) {\n",
              "          const element = document.querySelector('#df-4548944d-6c77-4488-ba64-3626e52ba17b');\n",
              "          const dataTable =\n",
              "            await google.colab.kernel.invokeFunction('convertToInteractive',\n",
              "                                                     [key], {});\n",
              "          if (!dataTable) return;\n",
              "\n",
              "          const docLinkHtml = 'Like what you see? Visit the ' +\n",
              "            '<a target=\"_blank\" href=https://colab.research.google.com/notebooks/data_table.ipynb>data table notebook</a>'\n",
              "            + ' to learn more about interactive tables.';\n",
              "          element.innerHTML = '';\n",
              "          dataTable['output_type'] = 'display_data';\n",
              "          await google.colab.output.renderOutput(dataTable, element);\n",
              "          const docLink = document.createElement('div');\n",
              "          docLink.innerHTML = docLinkHtml;\n",
              "          element.appendChild(docLink);\n",
              "        }\n",
              "      </script>\n",
              "    </div>\n",
              "  </div>\n",
              "  "
            ]
          },
          "metadata": {},
          "execution_count": 18
        }
      ]
    },
    {
      "cell_type": "code",
      "source": [
        "train_data.info()"
      ],
      "metadata": {
        "colab": {
          "base_uri": "https://localhost:8080/"
        },
        "id": "OLU4cxe46zQg",
        "outputId": "c22e6305-d71d-46a0-efea-0c11fc634e4d"
      },
      "execution_count": 4,
      "outputs": [
        {
          "output_type": "stream",
          "name": "stdout",
          "text": [
            "<class 'pandas.core.frame.DataFrame'>\n",
            "Int64Index: 742285 entries, 0 to 1184018\n",
            "Data columns (total 13 columns):\n",
            " #   Column                  Non-Null Count   Dtype  \n",
            "---  ------                  --------------   -----  \n",
            " 0   transaction_id          742285 non-null  int64  \n",
            " 1   apartment_id            742285 non-null  int64  \n",
            " 2   city                    742285 non-null  object \n",
            " 3   dong                    742285 non-null  object \n",
            " 4   jibun                   742285 non-null  object \n",
            " 5   apt                     742285 non-null  object \n",
            " 6   addr_kr                 742285 non-null  object \n",
            " 7   exclusive_use_area      742285 non-null  float64\n",
            " 8   year_of_completion      742285 non-null  int64  \n",
            " 9   transaction_year_month  742285 non-null  int64  \n",
            " 10  transaction_date        742285 non-null  object \n",
            " 11  floor                   742285 non-null  int64  \n",
            " 12  transaction_real_price  742285 non-null  int64  \n",
            "dtypes: float64(1), int64(6), object(6)\n",
            "memory usage: 95.4+ MB\n"
          ]
        }
      ]
    },
    {
      "cell_type": "code",
      "source": [
        "test_data.info()"
      ],
      "metadata": {
        "colab": {
          "base_uri": "https://localhost:8080/"
        },
        "id": "ldEQc1bX65Cy",
        "outputId": "6565cfa9-2280-42c1-c02c-df9fa555016b"
      },
      "execution_count": 5,
      "outputs": [
        {
          "output_type": "stream",
          "name": "stdout",
          "text": [
            "<class 'pandas.core.frame.DataFrame'>\n",
            "Int64Index: 5463 entries, 0 to 5462\n",
            "Data columns (total 12 columns):\n",
            " #   Column                  Non-Null Count  Dtype  \n",
            "---  ------                  --------------  -----  \n",
            " 0   transaction_id          5463 non-null   int64  \n",
            " 1   apartment_id            5463 non-null   int64  \n",
            " 2   city                    5463 non-null   object \n",
            " 3   dong                    5463 non-null   object \n",
            " 4   jibun                   5463 non-null   object \n",
            " 5   apt                     5463 non-null   object \n",
            " 6   addr_kr                 5463 non-null   object \n",
            " 7   exclusive_use_area      5463 non-null   float64\n",
            " 8   year_of_completion      5463 non-null   int64  \n",
            " 9   transaction_year_month  5463 non-null   int64  \n",
            " 10  transaction_date        5463 non-null   object \n",
            " 11  floor                   5463 non-null   int64  \n",
            "dtypes: float64(1), int64(5), object(6)\n",
            "memory usage: 554.8+ KB\n"
          ]
        }
      ]
    },
    {
      "cell_type": "code",
      "source": [
        "train_null = train_data.drop('transaction_real_price', axis=1).isnull().sum()/len(train_data)*100\n",
        "test_null = test_data.isnull().sum()/len(test_data)*100\n",
        "pd.DataFrame({'train_null_count': train_null,'test_null_count':test_null})"
      ],
      "metadata": {
        "colab": {
          "base_uri": "https://localhost:8080/",
          "height": 425
        },
        "id": "4Aekpe_f8T1J",
        "outputId": "ea02865e-6e84-4767-dd68-ac2b626f315a"
      },
      "execution_count": 6,
      "outputs": [
        {
          "output_type": "execute_result",
          "data": {
            "text/plain": [
              "                        train_null_count  test_null_count\n",
              "transaction_id                       0.0              0.0\n",
              "apartment_id                         0.0              0.0\n",
              "city                                 0.0              0.0\n",
              "dong                                 0.0              0.0\n",
              "jibun                                0.0              0.0\n",
              "apt                                  0.0              0.0\n",
              "addr_kr                              0.0              0.0\n",
              "exclusive_use_area                   0.0              0.0\n",
              "year_of_completion                   0.0              0.0\n",
              "transaction_year_month               0.0              0.0\n",
              "transaction_date                     0.0              0.0\n",
              "floor                                0.0              0.0"
            ],
            "text/html": [
              "\n",
              "  <div id=\"df-62b2cfc8-9139-46c7-a3aa-08e9a0c04cfb\">\n",
              "    <div class=\"colab-df-container\">\n",
              "      <div>\n",
              "<style scoped>\n",
              "    .dataframe tbody tr th:only-of-type {\n",
              "        vertical-align: middle;\n",
              "    }\n",
              "\n",
              "    .dataframe tbody tr th {\n",
              "        vertical-align: top;\n",
              "    }\n",
              "\n",
              "    .dataframe thead th {\n",
              "        text-align: right;\n",
              "    }\n",
              "</style>\n",
              "<table border=\"1\" class=\"dataframe\">\n",
              "  <thead>\n",
              "    <tr style=\"text-align: right;\">\n",
              "      <th></th>\n",
              "      <th>train_null_count</th>\n",
              "      <th>test_null_count</th>\n",
              "    </tr>\n",
              "  </thead>\n",
              "  <tbody>\n",
              "    <tr>\n",
              "      <th>transaction_id</th>\n",
              "      <td>0.0</td>\n",
              "      <td>0.0</td>\n",
              "    </tr>\n",
              "    <tr>\n",
              "      <th>apartment_id</th>\n",
              "      <td>0.0</td>\n",
              "      <td>0.0</td>\n",
              "    </tr>\n",
              "    <tr>\n",
              "      <th>city</th>\n",
              "      <td>0.0</td>\n",
              "      <td>0.0</td>\n",
              "    </tr>\n",
              "    <tr>\n",
              "      <th>dong</th>\n",
              "      <td>0.0</td>\n",
              "      <td>0.0</td>\n",
              "    </tr>\n",
              "    <tr>\n",
              "      <th>jibun</th>\n",
              "      <td>0.0</td>\n",
              "      <td>0.0</td>\n",
              "    </tr>\n",
              "    <tr>\n",
              "      <th>apt</th>\n",
              "      <td>0.0</td>\n",
              "      <td>0.0</td>\n",
              "    </tr>\n",
              "    <tr>\n",
              "      <th>addr_kr</th>\n",
              "      <td>0.0</td>\n",
              "      <td>0.0</td>\n",
              "    </tr>\n",
              "    <tr>\n",
              "      <th>exclusive_use_area</th>\n",
              "      <td>0.0</td>\n",
              "      <td>0.0</td>\n",
              "    </tr>\n",
              "    <tr>\n",
              "      <th>year_of_completion</th>\n",
              "      <td>0.0</td>\n",
              "      <td>0.0</td>\n",
              "    </tr>\n",
              "    <tr>\n",
              "      <th>transaction_year_month</th>\n",
              "      <td>0.0</td>\n",
              "      <td>0.0</td>\n",
              "    </tr>\n",
              "    <tr>\n",
              "      <th>transaction_date</th>\n",
              "      <td>0.0</td>\n",
              "      <td>0.0</td>\n",
              "    </tr>\n",
              "    <tr>\n",
              "      <th>floor</th>\n",
              "      <td>0.0</td>\n",
              "      <td>0.0</td>\n",
              "    </tr>\n",
              "  </tbody>\n",
              "</table>\n",
              "</div>\n",
              "      <button class=\"colab-df-convert\" onclick=\"convertToInteractive('df-62b2cfc8-9139-46c7-a3aa-08e9a0c04cfb')\"\n",
              "              title=\"Convert this dataframe to an interactive table.\"\n",
              "              style=\"display:none;\">\n",
              "        \n",
              "  <svg xmlns=\"http://www.w3.org/2000/svg\" height=\"24px\"viewBox=\"0 0 24 24\"\n",
              "       width=\"24px\">\n",
              "    <path d=\"M0 0h24v24H0V0z\" fill=\"none\"/>\n",
              "    <path d=\"M18.56 5.44l.94 2.06.94-2.06 2.06-.94-2.06-.94-.94-2.06-.94 2.06-2.06.94zm-11 1L8.5 8.5l.94-2.06 2.06-.94-2.06-.94L8.5 2.5l-.94 2.06-2.06.94zm10 10l.94 2.06.94-2.06 2.06-.94-2.06-.94-.94-2.06-.94 2.06-2.06.94z\"/><path d=\"M17.41 7.96l-1.37-1.37c-.4-.4-.92-.59-1.43-.59-.52 0-1.04.2-1.43.59L10.3 9.45l-7.72 7.72c-.78.78-.78 2.05 0 2.83L4 21.41c.39.39.9.59 1.41.59.51 0 1.02-.2 1.41-.59l7.78-7.78 2.81-2.81c.8-.78.8-2.07 0-2.86zM5.41 20L4 18.59l7.72-7.72 1.47 1.35L5.41 20z\"/>\n",
              "  </svg>\n",
              "      </button>\n",
              "      \n",
              "  <style>\n",
              "    .colab-df-container {\n",
              "      display:flex;\n",
              "      flex-wrap:wrap;\n",
              "      gap: 12px;\n",
              "    }\n",
              "\n",
              "    .colab-df-convert {\n",
              "      background-color: #E8F0FE;\n",
              "      border: none;\n",
              "      border-radius: 50%;\n",
              "      cursor: pointer;\n",
              "      display: none;\n",
              "      fill: #1967D2;\n",
              "      height: 32px;\n",
              "      padding: 0 0 0 0;\n",
              "      width: 32px;\n",
              "    }\n",
              "\n",
              "    .colab-df-convert:hover {\n",
              "      background-color: #E2EBFA;\n",
              "      box-shadow: 0px 1px 2px rgba(60, 64, 67, 0.3), 0px 1px 3px 1px rgba(60, 64, 67, 0.15);\n",
              "      fill: #174EA6;\n",
              "    }\n",
              "\n",
              "    [theme=dark] .colab-df-convert {\n",
              "      background-color: #3B4455;\n",
              "      fill: #D2E3FC;\n",
              "    }\n",
              "\n",
              "    [theme=dark] .colab-df-convert:hover {\n",
              "      background-color: #434B5C;\n",
              "      box-shadow: 0px 1px 3px 1px rgba(0, 0, 0, 0.15);\n",
              "      filter: drop-shadow(0px 1px 2px rgba(0, 0, 0, 0.3));\n",
              "      fill: #FFFFFF;\n",
              "    }\n",
              "  </style>\n",
              "\n",
              "      <script>\n",
              "        const buttonEl =\n",
              "          document.querySelector('#df-62b2cfc8-9139-46c7-a3aa-08e9a0c04cfb button.colab-df-convert');\n",
              "        buttonEl.style.display =\n",
              "          google.colab.kernel.accessAllowed ? 'block' : 'none';\n",
              "\n",
              "        async function convertToInteractive(key) {\n",
              "          const element = document.querySelector('#df-62b2cfc8-9139-46c7-a3aa-08e9a0c04cfb');\n",
              "          const dataTable =\n",
              "            await google.colab.kernel.invokeFunction('convertToInteractive',\n",
              "                                                     [key], {});\n",
              "          if (!dataTable) return;\n",
              "\n",
              "          const docLinkHtml = 'Like what you see? Visit the ' +\n",
              "            '<a target=\"_blank\" href=https://colab.research.google.com/notebooks/data_table.ipynb>data table notebook</a>'\n",
              "            + ' to learn more about interactive tables.';\n",
              "          element.innerHTML = '';\n",
              "          dataTable['output_type'] = 'display_data';\n",
              "          await google.colab.output.renderOutput(dataTable, element);\n",
              "          const docLink = document.createElement('div');\n",
              "          docLink.innerHTML = docLinkHtml;\n",
              "          element.appendChild(docLink);\n",
              "        }\n",
              "      </script>\n",
              "    </div>\n",
              "  </div>\n",
              "  "
            ]
          },
          "metadata": {},
          "execution_count": 6
        }
      ]
    },
    {
      "cell_type": "code",
      "source": [
        "f,ax=plt.subplots(figsize=(10,6))\n",
        "sns.distplot(train_data['transaction_real_price'])"
      ],
      "metadata": {
        "colab": {
          "base_uri": "https://localhost:8080/",
          "height": 418
        },
        "id": "ww3O-PFeEvCV",
        "outputId": "b2dcf152-03f4-466a-b83a-c6ad9e37e8c7"
      },
      "execution_count": 7,
      "outputs": [
        {
          "output_type": "execute_result",
          "data": {
            "text/plain": [
              "<matplotlib.axes._subplots.AxesSubplot at 0x7f3b908a1b20>"
            ]
          },
          "metadata": {},
          "execution_count": 7
        },
        {
          "output_type": "display_data",
          "data": {
            "text/plain": [
              "<Figure size 720x432 with 1 Axes>"
            ],
            "image/png": "[encoded data removed]"
          },
          "metadata": {
            "needs_background": "light"
          }
        }
      ]
    },
    {
      "cell_type": "code",
      "source": [
        "train_data['transaction_real_price'] = np.log1p(train_data['transaction_real_price'])\n",
        "f,ax=plt.subplots(figsize=(10,6))\n",
        "sns.distplot(train_data['transaction_real_price'])"
      ],
      "metadata": {
        "colab": {
          "base_uri": "https://localhost:8080/",
          "height": 407
        },
        "id": "RPcD4BdsC0hA",
        "outputId": "3cdbd99f-db4d-4f54-d5f0-d9bba71dac9e"
      },
      "execution_count": 8,
      "outputs": [
        {
          "output_type": "execute_result",
          "data": {
            "text/plain": [
              "<matplotlib.axes._subplots.AxesSubplot at 0x7f3b805fc940>"
            ]
          },
          "metadata": {},
          "execution_count": 8
        },
        {
          "output_type": "display_data",
          "data": {
            "text/plain": [
              "<Figure size 720x432 with 1 Axes>"
            ],
            "image/png": "[encoded data removed]"
          },
          "metadata": {
            "needs_background": "light"
          }
        }
      ]
    },
    {
      "cell_type": "code",
      "source": [
        "f,ax=plt.subplots(figsize=(10,6))\n",
        "sns.distplot(test_data['transaction_year_month'])"
      ],
      "metadata": {
        "colab": {
          "base_uri": "https://localhost:8080/",
          "height": 407
        },
        "id": "FXb5BeJqTJfj",
        "outputId": "88b2fbfd-4453-442d-c2d4-6224fd753114"
      },
      "execution_count": 17,
      "outputs": [
        {
          "output_type": "execute_result",
          "data": {
            "text/plain": [
              "<matplotlib.axes._subplots.AxesSubplot at 0x7f3b80812fd0>"
            ]
          },
          "metadata": {},
          "execution_count": 17
        },
        {
          "output_type": "display_data",
          "data": {
            "text/plain": [
              "<Figure size 720x432 with 1 Axes>"
            ],
            "image/png": "[encoded data removed]"
          },
          "metadata": {
            "needs_background": "light"
          }
        }
      ]
    },
    {
      "cell_type": "code",
      "source": [
        "k = train_data.shape[1]\n",
        "corrmat = train_data.corr()\n",
        "cols = corrmat.nlargest(k,'transaction_real_price')['transaction_real_price'].index\n",
        "cm = np.corrcoef(train_data[cols].values.T)\n",
        "f,ax = plt.subplots(figsize=(8,6))\n",
        "sns.heatmap(data=cm,\n",
        "            annot = True,\n",
        "            square=True,\n",
        "            fmt='.2f',\n",
        "            linewidths=5,\n",
        "            cmap='Reds',\n",
        "            yticklabels=cols.values,\n",
        "            xticklabels=cols.values\n",
        "            )"
      ],
      "metadata": {
        "colab": {
          "base_uri": "https://localhost:8080/",
          "height": 507
        },
        "id": "iayJebn9Erq0",
        "outputId": "c0683e5f-2f4b-41ef-85d1-07a288a27e14"
      },
      "execution_count": 9,
      "outputs": [
        {
          "output_type": "execute_result",
          "data": {
            "text/plain": [
              "<matplotlib.axes._subplots.AxesSubplot at 0x7f3b7b7647f0>"
            ]
          },
          "metadata": {},
          "execution_count": 9
        },
        {
          "output_type": "display_data",
          "data": {
            "text/plain": [
              "<Figure size 576x432 with 2 Axes>"
            ],
            "image/png": "[encoded data removed]"
          },
          "metadata": {
            "needs_background": "light"
          }
        }
      ]
    },
    {
      "cell_type": "code",
      "source": [
        "train_id = train_data['transaction_id']\n",
        "train = train_data.drop('transaction_id',axis=1)\n",
        "test_id = test_data['transaction_id']\n",
        "test = test_data.drop('transaction_id',axis=1)"
      ],
      "metadata": {
        "id": "l3l-vyiGOAEw"
      },
      "execution_count": 10,
      "outputs": []
    },
    {
      "cell_type": "code",
      "source": [
        "train['transaction_real_price'] = np.expm1(train_data['transaction_real_price'])"
      ],
      "metadata": {
        "id": "xdlcyDG0TGW4"
      },
      "execution_count": 11,
      "outputs": []
    },
    {
      "cell_type": "code",
      "source": [
        "f,ax=plt.subplots(figsize=(8,6))\n",
        "plt.scatter(train['exclusive_use_area'],train['transaction_real_price'])\n",
        "plt.xlabel('exclusive_use_area')\n",
        "plt.ylabel('transaction_real_price')\n",
        "plt.show()"
      ],
      "metadata": {
        "colab": {
          "base_uri": "https://localhost:8080/",
          "height": 389
        },
        "id": "31CPW16-KcWg",
        "outputId": "9df71981-8def-4e2f-c379-14925189974f"
      },
      "execution_count": 19,
      "outputs": [
        {
          "output_type": "display_data",
          "data": {
            "text/plain": [
              "<Figure size 576x432 with 1 Axes>"
            ],
            "image/png": "[encoded data removed]"
          },
          "metadata": {
            "needs_background": "light"
          }
        }
      ]
    },
    {
      "cell_type": "code",
      "source": [
        "train[(train['exclusive_use_area'] > 400)]"
      ],
      "metadata": {
        "colab": {
          "base_uri": "https://localhost:8080/",
          "height": 249
        },
        "id": "PJuflKxqbZ5h",
        "outputId": "64343100-05e6-4cce-e2af-1fd32e2cee55"
      },
      "execution_count": 13,
      "outputs": [
        {
          "output_type": "execute_result",
          "data": {
            "text/plain": [
              "        apartment_id   city dong  jibun      apt            addr_kr  \\\n",
              "563870         12633  서울특별시  도곡동  193-1  힐데스하임빌라  도곡동 193-1 힐데스하임빌라   \n",
              "\n",
              "        exclusive_use_area  year_of_completion  transaction_year_month  \\\n",
              "563870              424.32                1998                  201604   \n",
              "\n",
              "       transaction_date  floor  transaction_real_price  \n",
              "563870            11~20     10                498000.0  "
            ],
            "text/html": [
              "\n",
              "  <div id=\"df-120d20cc-6c63-4132-b8ec-5976ae6c1028\">\n",
              "    <div class=\"colab-df-container\">\n",
              "      <div>\n",
              "<style scoped>\n",
              "    .dataframe tbody tr th:only-of-type {\n",
              "        vertical-align: middle;\n",
              "    }\n",
              "\n",
              "    .dataframe tbody tr th {\n",
              "        vertical-align: top;\n",
              "    }\n",
              "\n",
              "    .dataframe thead th {\n",
              "        text-align: right;\n",
              "    }\n",
              "</style>\n",
              "<table border=\"1\" class=\"dataframe\">\n",
              "  <thead>\n",
              "    <tr style=\"text-align: right;\">\n",
              "      <th></th>\n",
              "      <th>apartment_id</th>\n",
              "      <th>city</th>\n",
              "      <th>dong</th>\n",
              "      <th>jibun</th>\n",
              "      <th>apt</th>\n",
              "      <th>addr_kr</th>\n",
              "      <th>exclusive_use_area</th>\n",
              "      <th>year_of_completion</th>\n",
              "      <th>transaction_year_month</th>\n",
              "      <th>transaction_date</th>\n",
              "      <th>floor</th>\n",
              "      <th>transaction_real_price</th>\n",
              "    </tr>\n",
              "  </thead>\n",
              "  <tbody>\n",
              "    <tr>\n",
              "      <th>563870</th>\n",
              "      <td>12633</td>\n",
              "      <td>서울특별시</td>\n",
              "      <td>도곡동</td>\n",
              "      <td>193-1</td>\n",
              "      <td>힐데스하임빌라</td>\n",
              "      <td>도곡동 193-1 힐데스하임빌라</td>\n",
              "      <td>424.32</td>\n",
              "      <td>1998</td>\n",
              "      <td>201604</td>\n",
              "      <td>11~20</td>\n",
              "      <td>10</td>\n",
              "      <td>498000.0</td>\n",
              "    </tr>\n",
              "  </tbody>\n",
              "</table>\n",
              "</div>\n",
              "      <button class=\"colab-df-convert\" onclick=\"convertToInteractive('df-120d20cc-6c63-4132-b8ec-5976ae6c1028')\"\n",
              "              title=\"Convert this dataframe to an interactive table.\"\n",
              "              style=\"display:none;\">\n",
              "        \n",
              "  <svg xmlns=\"http://www.w3.org/2000/svg\" height=\"24px\"viewBox=\"0 0 24 24\"\n",
              "       width=\"24px\">\n",
              "    <path d=\"M0 0h24v24H0V0z\" fill=\"none\"/>\n",
              "    <path d=\"M18.56 5.44l.94 2.06.94-2.06 2.06-.94-2.06-.94-.94-2.06-.94 2.06-2.06.94zm-11 1L8.5 8.5l.94-2.06 2.06-.94-2.06-.94L8.5 2.5l-.94 2.06-2.06.94zm10 10l.94 2.06.94-2.06 2.06-.94-2.06-.94-.94-2.06-.94 2.06-2.06.94z\"/><path d=\"M17.41 7.96l-1.37-1.37c-.4-.4-.92-.59-1.43-.59-.52 0-1.04.2-1.43.59L10.3 9.45l-7.72 7.72c-.78.78-.78 2.05 0 2.83L4 21.41c.39.39.9.59 1.41.59.51 0 1.02-.2 1.41-.59l7.78-7.78 2.81-2.81c.8-.78.8-2.07 0-2.86zM5.41 20L4 18.59l7.72-7.72 1.47 1.35L5.41 20z\"/>\n",
              "  </svg>\n",
              "      </button>\n",
              "      \n",
              "  <style>\n",
              "    .colab-df-container {\n",
              "      display:flex;\n",
              "      flex-wrap:wrap;\n",
              "      gap: 12px;\n",
              "    }\n",
              "\n",
              "    .colab-df-convert {\n",
              "      background-color: #E8F0FE;\n",
              "      border: none;\n",
              "      border-radius: 50%;\n",
              "      cursor: pointer;\n",
              "      display: none;\n",
              "      fill: #1967D2;\n",
              "      height: 32px;\n",
              "      padding: 0 0 0 0;\n",
              "      width: 32px;\n",
              "    }\n",
              "\n",
              "    .colab-df-convert:hover {\n",
              "      background-color: #E2EBFA;\n",
              "      box-shadow: 0px 1px 2px rgba(60, 64, 67, 0.3), 0px 1px 3px 1px rgba(60, 64, 67, 0.15);\n",
              "      fill: #174EA6;\n",
              "    }\n",
              "\n",
              "    [theme=dark] .colab-df-convert {\n",
              "      background-color: #3B4455;\n",
              "      fill: #D2E3FC;\n",
              "    }\n",
              "\n",
              "    [theme=dark] .colab-df-convert:hover {\n",
              "      background-color: #434B5C;\n",
              "      box-shadow: 0px 1px 3px 1px rgba(0, 0, 0, 0.15);\n",
              "      filter: drop-shadow(0px 1px 2px rgba(0, 0, 0, 0.3));\n",
              "      fill: #FFFFFF;\n",
              "    }\n",
              "  </style>\n",
              "\n",
              "      <script>\n",
              "        const buttonEl =\n",
              "          document.querySelector('#df-120d20cc-6c63-4132-b8ec-5976ae6c1028 button.colab-df-convert');\n",
              "        buttonEl.style.display =\n",
              "          google.colab.kernel.accessAllowed ? 'block' : 'none';\n",
              "\n",
              "        async function convertToInteractive(key) {\n",
              "          const element = document.querySelector('#df-120d20cc-6c63-4132-b8ec-5976ae6c1028');\n",
              "          const dataTable =\n",
              "            await google.colab.kernel.invokeFunction('convertToInteractive',\n",
              "                                                     [key], {});\n",
              "          if (!dataTable) return;\n",
              "\n",
              "          const docLinkHtml = 'Like what you see? Visit the ' +\n",
              "            '<a target=\"_blank\" href=https://colab.research.google.com/notebooks/data_table.ipynb>data table notebook</a>'\n",
              "            + ' to learn more about interactive tables.';\n",
              "          element.innerHTML = '';\n",
              "          dataTable['output_type'] = 'display_data';\n",
              "          await google.colab.output.renderOutput(dataTable, element);\n",
              "          const docLink = document.createElement('div');\n",
              "          docLink.innerHTML = docLinkHtml;\n",
              "          element.appendChild(docLink);\n",
              "        }\n",
              "      </script>\n",
              "    </div>\n",
              "  </div>\n",
              "  "
            ]
          },
          "metadata": {},
          "execution_count": 13
        }
      ]
    },
    {
      "cell_type": "code",
      "source": [
        "drop_columns=['apt','jibun','transaction_year_month']\n",
        "\n",
        "train=train.drop(drop_columns,axis=1)\n",
        "test=test.drop(drop_columns,axis=1)\n",
        "train.head()"
      ],
      "metadata": {
        "id": "lCB8wJpBOfgd"
      },
      "execution_count": null,
      "outputs": []
    }
  ]
}