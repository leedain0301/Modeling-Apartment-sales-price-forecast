{
  "nbformat": 4,
  "nbformat_minor": 0,
  "metadata": {
    "colab": {
      "provenance": [],
      "mount_file_id": "17vORYn95HWsf623Y49b3B3W7LEkMp2AU",
      "authorship_tag": "ABX9TyNc5K097WGwtWHqlm3X0YpB",
      "include_colab_link": true
    },
    "kernelspec": {
      "name": "python3",
      "display_name": "Python 3"
    },
    "language_info": {
      "name": "python"
    }
  },
  "cells": [
    {
      "cell_type": "markdown",
      "metadata": {
        "id": "view-in-github",
        "colab_type": "text"
      },
      "source": [
        "<a href=\"https://colab.research.google.com/github/leedain0301/Data_MiniProject_02/blob/main/MiniProject_02_%EC%A0%84%EC%B2%98%EB%A6%AC.ipynb\" target=\"_parent\"><img src=\"https://colab.research.google.com/assets/colab-badge.svg\" alt=\"Open In Colab\"/></a>"
      ]
    },
    {
      "cell_type": "markdown",
      "source": [
        "# 아파트 실거래가 예측\n",
        "\n",
        "\n",
        "> 한국의 주거 형태는 약 50%가 아파트이고, \n",
        "> 재태크 수단으로서도 아파트 매매가에 관심도가 높습니다.\n",
        ">\n",
        ">아파트 실거래가 예측 데이터 분석은 중개사와 구매자를 연결하여 부동산정보 서비스 시장의 신뢰도를 높이고, 아파트 구매자들의 정보 불균형을 해결하기 위해 미래의 실 거래가 예측을 목표로 합니다.\n",
        ">\n",
        "> 이 데이터는 부동산 기업 앱 '직방'에서 데이터를 제공 받았고, 서울 아파트 실거래가 2008 ~ 2017년도 정보를 가지고 있습니다.\n",
        "\n",
        "\n",
        "\n"
      ],
      "metadata": {
        "id": "ZHWZpZ07w0dv"
      }
    },
    {
      "cell_type": "markdown",
      "source": [
        "## 컬럼 설명\n",
        "\n",
        "###   train.csv / test.csv <br>\n",
        ">  : 서울 지역의 740,000여개 거래 데이터, 아파트 거래일, 지역, 전용면적, 실 거래가 등의 정보\n",
        "\n",
        "- **features**\n",
        "  *   transaction_id : 아파트 거래 유일키키\n",
        "  *   apartment_id : 아파트 아이디\n",
        "  *   city : 도시\n",
        "  *   dong : 동\n",
        "  *   jibun : 지번\n",
        "  *   apt : 아파트단지 이름\n",
        "  *   addr_kr : 주소\n",
        "  *   exclusive_use_area : 전용면적\n",
        "  *   year_of_completion : 설립일자\n",
        "  *   transaction_year_month : 거래년월\n",
        "  *   transaction_date : 거래날짜\n",
        "  *   floor : 층\n",
        "  *   transaction_real_price : 실거래가(train 만 존재)\n",
        "\n",
        "\n",
        "\n",
        "<br>\n",
        "\n",
        "---\n",
        "\n",
        "<br>\n",
        "\n",
        "\n",
        "\n",
        "\n",
        "\n",
        "\n",
        "\n"
      ],
      "metadata": {
        "id": "jr6md_ad2PJV"
      }
    },
    {
      "cell_type": "code",
      "source": [
        "!pip install category_encoders"
      ],
      "metadata": {
        "colab": {
          "base_uri": "https://localhost:8080/"
        },
        "id": "iBDyppZDc229",
        "outputId": "f53dc8b9-1961-4907-d8a3-81b728eb93b3"
      },
      "execution_count": 93,
      "outputs": [
        {
          "output_type": "stream",
          "name": "stdout",
          "text": [
            "Looking in indexes: https://pypi.org/simple, https://us-python.pkg.dev/colab-wheels/public/simple/\n",
            "Requirement already satisfied: category_encoders in /usr/local/lib/python3.8/dist-packages (2.6.0)\n",
            "Requirement already satisfied: pandas>=1.0.5 in /usr/local/lib/python3.8/dist-packages (from category_encoders) (1.3.5)\n",
            "Requirement already satisfied: patsy>=0.5.1 in /usr/local/lib/python3.8/dist-packages (from category_encoders) (0.5.3)\n",
            "Requirement already satisfied: scikit-learn>=0.20.0 in /usr/local/lib/python3.8/dist-packages (from category_encoders) (1.0.2)\n",
            "Requirement already satisfied: scipy>=1.0.0 in /usr/local/lib/python3.8/dist-packages (from category_encoders) (1.7.3)\n",
            "Requirement already satisfied: statsmodels>=0.9.0 in /usr/local/lib/python3.8/dist-packages (from category_encoders) (0.12.2)\n",
            "Requirement already satisfied: numpy>=1.14.0 in /usr/local/lib/python3.8/dist-packages (from category_encoders) (1.21.6)\n",
            "Requirement already satisfied: python-dateutil>=2.7.3 in /usr/local/lib/python3.8/dist-packages (from pandas>=1.0.5->category_encoders) (2.8.2)\n",
            "Requirement already satisfied: pytz>=2017.3 in /usr/local/lib/python3.8/dist-packages (from pandas>=1.0.5->category_encoders) (2022.7.1)\n",
            "Requirement already satisfied: six in /usr/local/lib/python3.8/dist-packages (from patsy>=0.5.1->category_encoders) (1.15.0)\n",
            "Requirement already satisfied: threadpoolctl>=2.0.0 in /usr/local/lib/python3.8/dist-packages (from scikit-learn>=0.20.0->category_encoders) (3.1.0)\n",
            "Requirement already satisfied: joblib>=0.11 in /usr/local/lib/python3.8/dist-packages (from scikit-learn>=0.20.0->category_encoders) (1.2.0)\n"
          ]
        }
      ]
    },
    {
      "cell_type": "code",
      "source": [
        "import numpy as np\n",
        "import pandas as pd\n",
        "import matplotlib.pyplot as plt\n",
        "import seaborn as sns\n",
        "import timeit\n",
        "import sklearn\n",
        "from sklearn.linear_model    import ElasticNet, Lasso\n",
        "from sklearn.ensemble        import GradientBoostingRegressor, RandomForestRegressor\n",
        "from sklearn.kernel_ridge    import KernelRidge\n",
        "from sklearn.pipeline        import make_pipeline\n",
        "from sklearn.preprocessing   import RobustScaler, StandardScaler\n",
        "from sklearn.model_selection import KFold, cross_val_score, train_test_split\n",
        "from sklearn.metrics         import mean_squared_error, accuracy_score\n",
        "\n",
        "from category_encoders       import OneHotEncoder, OrdinalEncoder\n",
        "\n",
        "import xgboost as xgb\n",
        "import lightgbm as lgb\n",
        "import warnings\n",
        "warnings.filterwarnings('ignore')\n",
        "import sys"
      ],
      "metadata": {
        "id": "apAZ0nF-g2Xj"
      },
      "execution_count": 94,
      "outputs": []
    },
    {
      "cell_type": "code",
      "execution_count": 95,
      "metadata": {
        "colab": {
          "base_uri": "https://localhost:8080/"
        },
        "id": "f14GBfFoclvk",
        "outputId": "6d7aeb63-90e0-46d7-cf3a-8cd5b04127fb"
      },
      "outputs": [
        {
          "output_type": "stream",
          "name": "stdout",
          "text": [
            "train.csv. Shape:  (1216553, 13)\n",
            "test.csv. Shape:  (5463, 12)\n"
          ]
        }
      ],
      "source": [
        "train_data = pd.read_csv('/content/drive/MyDrive/02.Colab Notebooks/MiniProject_02/train.csv')\n",
        "test_data = pd.read_csv('/content/drive/MyDrive/02.Colab Notebooks/MiniProject_02/test.csv')\n",
        "submission_data = pd.read_csv('/content/drive/MyDrive/02.Colab Notebooks/MiniProject_02/submission.csv')\n",
        "\n",
        "print('train.csv. Shape: ',train_data.shape)\n",
        "print('test.csv. Shape: ', test_data.shape)"
      ]
    },
    {
      "cell_type": "code",
      "source": [
        "# 서울/부산->부산 데이터 삭제\n",
        "train_data.drop(train_data[(train_data['city'] == '부산광역시')].index, inplace=True)\n",
        "test_data.drop(test_data[(test_data['city'] == '부산광역시')].index, inplace=True)"
      ],
      "metadata": {
        "id": "oWaTrsTnDmGO"
      },
      "execution_count": 96,
      "outputs": []
    },
    {
      "cell_type": "code",
      "source": [
        "# train_data.head()"
      ],
      "metadata": {
        "id": "JSVRYnMkmUps"
      },
      "execution_count": 97,
      "outputs": []
    },
    {
      "cell_type": "code",
      "source": [
        "# test_data.head()"
      ],
      "metadata": {
        "id": "KycOcMikTm-X"
      },
      "execution_count": 98,
      "outputs": []
    },
    {
      "cell_type": "code",
      "source": [
        "# train_data.info()"
      ],
      "metadata": {
        "id": "OLU4cxe46zQg"
      },
      "execution_count": 99,
      "outputs": []
    },
    {
      "cell_type": "code",
      "source": [
        "# test_data.info()"
      ],
      "metadata": {
        "id": "ldEQc1bX65Cy"
      },
      "execution_count": 100,
      "outputs": []
    },
    {
      "cell_type": "code",
      "source": [
        "train_data.duplicated().sum()"
      ],
      "metadata": {
        "colab": {
          "base_uri": "https://localhost:8080/"
        },
        "id": "fL-DWHhjrQu-",
        "outputId": "da0a1fc9-9c18-4c3d-d488-a6f104ca0336"
      },
      "execution_count": 101,
      "outputs": [
        {
          "output_type": "execute_result",
          "data": {
            "text/plain": [
              "0"
            ]
          },
          "metadata": {},
          "execution_count": 101
        }
      ]
    },
    {
      "cell_type": "code",
      "source": [
        "test_data.duplicated().sum()"
      ],
      "metadata": {
        "colab": {
          "base_uri": "https://localhost:8080/"
        },
        "id": "yXMJxmUNHnuK",
        "outputId": "5709f29f-966e-4bbd-c521-5aa9907cd77b"
      },
      "execution_count": 102,
      "outputs": [
        {
          "output_type": "execute_result",
          "data": {
            "text/plain": [
              "0"
            ]
          },
          "metadata": {},
          "execution_count": 102
        }
      ]
    },
    {
      "cell_type": "code",
      "source": [
        "train_null = train_data.drop('transaction_real_price', axis=1).isnull().sum()/len(train_data)*100\n",
        "test_null = test_data.isnull().sum()/len(test_data)*100\n",
        "pd.DataFrame({'train_null_count': train_null,'test_null_count':test_null})"
      ],
      "metadata": {
        "colab": {
          "base_uri": "https://localhost:8080/",
          "height": 425
        },
        "id": "4Aekpe_f8T1J",
        "outputId": "8ae5e3a7-8a3e-47cc-b9f0-06c784d5cc22"
      },
      "execution_count": 103,
      "outputs": [
        {
          "output_type": "execute_result",
          "data": {
            "text/plain": [
              "                        train_null_count  test_null_count\n",
              "transaction_id                       0.0              0.0\n",
              "apartment_id                         0.0              0.0\n",
              "city                                 0.0              0.0\n",
              "dong                                 0.0              0.0\n",
              "jibun                                0.0              0.0\n",
              "apt                                  0.0              0.0\n",
              "addr_kr                              0.0              0.0\n",
              "exclusive_use_area                   0.0              0.0\n",
              "year_of_completion                   0.0              0.0\n",
              "transaction_year_month               0.0              0.0\n",
              "transaction_date                     0.0              0.0\n",
              "floor                                0.0              0.0"
            ],
            "text/html": [
              "\n",
              "  <div id=\"df-60e39958-142e-450d-8c21-e5dfd0c7670a\">\n",
              "    <div class=\"colab-df-container\">\n",
              "      <div>\n",
              "<style scoped>\n",
              "    .dataframe tbody tr th:only-of-type {\n",
              "        vertical-align: middle;\n",
              "    }\n",
              "\n",
              "    .dataframe tbody tr th {\n",
              "        vertical-align: top;\n",
              "    }\n",
              "\n",
              "    .dataframe thead th {\n",
              "        text-align: right;\n",
              "    }\n",
              "</style>\n",
              "<table border=\"1\" class=\"dataframe\">\n",
              "  <thead>\n",
              "    <tr style=\"text-align: right;\">\n",
              "      <th></th>\n",
              "      <th>train_null_count</th>\n",
              "      <th>test_null_count</th>\n",
              "    </tr>\n",
              "  </thead>\n",
              "  <tbody>\n",
              "    <tr>\n",
              "      <th>transaction_id</th>\n",
              "      <td>0.0</td>\n",
              "      <td>0.0</td>\n",
              "    </tr>\n",
              "    <tr>\n",
              "      <th>apartment_id</th>\n",
              "      <td>0.0</td>\n",
              "      <td>0.0</td>\n",
              "    </tr>\n",
              "    <tr>\n",
              "      <th>city</th>\n",
              "      <td>0.0</td>\n",
              "      <td>0.0</td>\n",
              "    </tr>\n",
              "    <tr>\n",
              "      <th>dong</th>\n",
              "      <td>0.0</td>\n",
              "      <td>0.0</td>\n",
              "    </tr>\n",
              "    <tr>\n",
              "      <th>jibun</th>\n",
              "      <td>0.0</td>\n",
              "      <td>0.0</td>\n",
              "    </tr>\n",
              "    <tr>\n",
              "      <th>apt</th>\n",
              "      <td>0.0</td>\n",
              "      <td>0.0</td>\n",
              "    </tr>\n",
              "    <tr>\n",
              "      <th>addr_kr</th>\n",
              "      <td>0.0</td>\n",
              "      <td>0.0</td>\n",
              "    </tr>\n",
              "    <tr>\n",
              "      <th>exclusive_use_area</th>\n",
              "      <td>0.0</td>\n",
              "      <td>0.0</td>\n",
              "    </tr>\n",
              "    <tr>\n",
              "      <th>year_of_completion</th>\n",
              "      <td>0.0</td>\n",
              "      <td>0.0</td>\n",
              "    </tr>\n",
              "    <tr>\n",
              "      <th>transaction_year_month</th>\n",
              "      <td>0.0</td>\n",
              "      <td>0.0</td>\n",
              "    </tr>\n",
              "    <tr>\n",
              "      <th>transaction_date</th>\n",
              "      <td>0.0</td>\n",
              "      <td>0.0</td>\n",
              "    </tr>\n",
              "    <tr>\n",
              "      <th>floor</th>\n",
              "      <td>0.0</td>\n",
              "      <td>0.0</td>\n",
              "    </tr>\n",
              "  </tbody>\n",
              "</table>\n",
              "</div>\n",
              "      <button class=\"colab-df-convert\" onclick=\"convertToInteractive('df-60e39958-142e-450d-8c21-e5dfd0c7670a')\"\n",
              "              title=\"Convert this dataframe to an interactive table.\"\n",
              "              style=\"display:none;\">\n",
              "        \n",
              "  <svg xmlns=\"http://www.w3.org/2000/svg\" height=\"24px\"viewBox=\"0 0 24 24\"\n",
              "       width=\"24px\">\n",
              "    <path d=\"M0 0h24v24H0V0z\" fill=\"none\"/>\n",
              "    <path d=\"M18.56 5.44l.94 2.06.94-2.06 2.06-.94-2.06-.94-.94-2.06-.94 2.06-2.06.94zm-11 1L8.5 8.5l.94-2.06 2.06-.94-2.06-.94L8.5 2.5l-.94 2.06-2.06.94zm10 10l.94 2.06.94-2.06 2.06-.94-2.06-.94-.94-2.06-.94 2.06-2.06.94z\"/><path d=\"M17.41 7.96l-1.37-1.37c-.4-.4-.92-.59-1.43-.59-.52 0-1.04.2-1.43.59L10.3 9.45l-7.72 7.72c-.78.78-.78 2.05 0 2.83L4 21.41c.39.39.9.59 1.41.59.51 0 1.02-.2 1.41-.59l7.78-7.78 2.81-2.81c.8-.78.8-2.07 0-2.86zM5.41 20L4 18.59l7.72-7.72 1.47 1.35L5.41 20z\"/>\n",
              "  </svg>\n",
              "      </button>\n",
              "      \n",
              "  <style>\n",
              "    .colab-df-container {\n",
              "      display:flex;\n",
              "      flex-wrap:wrap;\n",
              "      gap: 12px;\n",
              "    }\n",
              "\n",
              "    .colab-df-convert {\n",
              "      background-color: #E8F0FE;\n",
              "      border: none;\n",
              "      border-radius: 50%;\n",
              "      cursor: pointer;\n",
              "      display: none;\n",
              "      fill: #1967D2;\n",
              "      height: 32px;\n",
              "      padding: 0 0 0 0;\n",
              "      width: 32px;\n",
              "    }\n",
              "\n",
              "    .colab-df-convert:hover {\n",
              "      background-color: #E2EBFA;\n",
              "      box-shadow: 0px 1px 2px rgba(60, 64, 67, 0.3), 0px 1px 3px 1px rgba(60, 64, 67, 0.15);\n",
              "      fill: #174EA6;\n",
              "    }\n",
              "\n",
              "    [theme=dark] .colab-df-convert {\n",
              "      background-color: #3B4455;\n",
              "      fill: #D2E3FC;\n",
              "    }\n",
              "\n",
              "    [theme=dark] .colab-df-convert:hover {\n",
              "      background-color: #434B5C;\n",
              "      box-shadow: 0px 1px 3px 1px rgba(0, 0, 0, 0.15);\n",
              "      filter: drop-shadow(0px 1px 2px rgba(0, 0, 0, 0.3));\n",
              "      fill: #FFFFFF;\n",
              "    }\n",
              "  </style>\n",
              "\n",
              "      <script>\n",
              "        const buttonEl =\n",
              "          document.querySelector('#df-60e39958-142e-450d-8c21-e5dfd0c7670a button.colab-df-convert');\n",
              "        buttonEl.style.display =\n",
              "          google.colab.kernel.accessAllowed ? 'block' : 'none';\n",
              "\n",
              "        async function convertToInteractive(key) {\n",
              "          const element = document.querySelector('#df-60e39958-142e-450d-8c21-e5dfd0c7670a');\n",
              "          const dataTable =\n",
              "            await google.colab.kernel.invokeFunction('convertToInteractive',\n",
              "                                                     [key], {});\n",
              "          if (!dataTable) return;\n",
              "\n",
              "          const docLinkHtml = 'Like what you see? Visit the ' +\n",
              "            '<a target=\"_blank\" href=https://colab.research.google.com/notebooks/data_table.ipynb>data table notebook</a>'\n",
              "            + ' to learn more about interactive tables.';\n",
              "          element.innerHTML = '';\n",
              "          dataTable['output_type'] = 'display_data';\n",
              "          await google.colab.output.renderOutput(dataTable, element);\n",
              "          const docLink = document.createElement('div');\n",
              "          docLink.innerHTML = docLinkHtml;\n",
              "          element.appendChild(docLink);\n",
              "        }\n",
              "      </script>\n",
              "    </div>\n",
              "  </div>\n",
              "  "
            ]
          },
          "metadata": {},
          "execution_count": 103
        }
      ]
    },
    {
      "cell_type": "code",
      "source": [
        "train_data.nunique()"
      ],
      "metadata": {
        "colab": {
          "base_uri": "https://localhost:8080/"
        },
        "id": "OOgiHqEQpTrj",
        "outputId": "b3cb9ece-b4ef-4533-d01b-c63884b26a4a"
      },
      "execution_count": 104,
      "outputs": [
        {
          "output_type": "execute_result",
          "data": {
            "text/plain": [
              "transaction_id            742285\n",
              "apartment_id                8251\n",
              "city                           1\n",
              "dong                         330\n",
              "jibun                       6119\n",
              "apt                         6917\n",
              "addr_kr                     8251\n",
              "exclusive_use_area         12475\n",
              "year_of_completion            54\n",
              "transaction_year_month       119\n",
              "transaction_date               6\n",
              "floor                         73\n",
              "transaction_real_price     12301\n",
              "dtype: int64"
            ]
          },
          "metadata": {},
          "execution_count": 104
        }
      ]
    },
    {
      "cell_type": "markdown",
      "source": [
        "<br>\n",
        "\n",
        "---\n",
        "<br>"
      ],
      "metadata": {
        "id": "s7hdATlIYNLQ"
      }
    },
    {
      "cell_type": "code",
      "source": [
        "f,ax=plt.subplots(figsize=(10,6))\n",
        "sns.distplot(train_data['transaction_real_price'])"
      ],
      "metadata": {
        "colab": {
          "base_uri": "https://localhost:8080/",
          "height": 418
        },
        "id": "ww3O-PFeEvCV",
        "outputId": "f9b94d1e-63ee-41d2-8ecc-afe67eaa278f"
      },
      "execution_count": 105,
      "outputs": [
        {
          "output_type": "execute_result",
          "data": {
            "text/plain": [
              "<matplotlib.axes._subplots.AxesSubplot at 0x7f5c33ebb5e0>"
            ]
          },
          "metadata": {},
          "execution_count": 105
        },
        {
          "output_type": "display_data",
          "data": {
            "text/plain": [
              "<Figure size 720x432 with 1 Axes>"
            ],
            "image/png": "[encoded data removed]"
          },
          "metadata": {
            "needs_background": "light"
          }
        }
      ]
    },
    {
      "cell_type": "code",
      "source": [
        "train_data['transaction_real_price'] = np.log1p(train_data['transaction_real_price'])\n",
        "real_price = train_data['transaction_real_price']\n",
        "f,ax=plt.subplots(figsize=(8,6))\n",
        "sns.distplot(train_data['transaction_real_price'])"
      ],
      "metadata": {
        "colab": {
          "base_uri": "https://localhost:8080/",
          "height": 407
        },
        "id": "RPcD4BdsC0hA",
        "outputId": "7237cf0c-b36e-4987-b955-a795abdf79d6"
      },
      "execution_count": 106,
      "outputs": [
        {
          "output_type": "execute_result",
          "data": {
            "text/plain": [
              "<matplotlib.axes._subplots.AxesSubplot at 0x7f5c34b6c7f0>"
            ]
          },
          "metadata": {},
          "execution_count": 106
        },
        {
          "output_type": "display_data",
          "data": {
            "text/plain": [
              "<Figure size 576x432 with 1 Axes>"
            ],
            "image/png": "[encoded data removed]"
          },
          "metadata": {
            "needs_background": "light"
          }
        }
      ]
    },
    {
      "cell_type": "code",
      "source": [
        "f,ax=plt.subplots(figsize=(10,6))\n",
        "sns.distplot(train_data['exclusive_use_area'])"
      ],
      "metadata": {
        "colab": {
          "base_uri": "https://localhost:8080/",
          "height": 409
        },
        "id": "TVTO6OJWbyHe",
        "outputId": "f76144d0-2b4e-40bc-dff4-2a54d3864233"
      },
      "execution_count": 107,
      "outputs": [
        {
          "output_type": "execute_result",
          "data": {
            "text/plain": [
              "<matplotlib.axes._subplots.AxesSubplot at 0x7f5c33606fa0>"
            ]
          },
          "metadata": {},
          "execution_count": 107
        },
        {
          "output_type": "display_data",
          "data": {
            "text/plain": [
              "<Figure size 720x432 with 1 Axes>"
            ],
            "image/png": "[encoded data removed]"
          },
          "metadata": {
            "needs_background": "light"
          }
        }
      ]
    },
    {
      "cell_type": "code",
      "source": [
        "train_data['exclusive_use_area'] = np.log1p(train_data['exclusive_use_area'])\n",
        "test_data['exclusive_use_area'] = np.log1p(test_data['exclusive_use_area'])\n",
        "area  = train_data['exclusive_use_area']"
      ],
      "metadata": {
        "id": "XSsxTnqlbv16"
      },
      "execution_count": 108,
      "outputs": []
    },
    {
      "cell_type": "code",
      "source": [
        "f,ax=plt.subplots(figsize=(10,6))\n",
        "sns.distplot(train_data['exclusive_use_area'])"
      ],
      "metadata": {
        "colab": {
          "base_uri": "https://localhost:8080/",
          "height": 407
        },
        "id": "2c_sQrlscF8B",
        "outputId": "ae75f062-9a71-44cd-90aa-4851a4af0870"
      },
      "execution_count": 109,
      "outputs": [
        {
          "output_type": "execute_result",
          "data": {
            "text/plain": [
              "<matplotlib.axes._subplots.AxesSubplot at 0x7f5c334e6a90>"
            ]
          },
          "metadata": {},
          "execution_count": 109
        },
        {
          "output_type": "display_data",
          "data": {
            "text/plain": [
              "<Figure size 720x432 with 1 Axes>"
            ],
            "image/png": "[encoded data removed]"
          },
          "metadata": {
            "needs_background": "light"
          }
        }
      ]
    },
    {
      "cell_type": "code",
      "source": [
        "# 필요없는 컬럼 삭제\n",
        "drop_columns=['transaction_id','apartment_id','city','jibun','apt','addr_kr']\n",
        "\n",
        "train_drop = train_data[drop_columns]\n",
        "test_drop = test_data[drop_columns]\n",
        "\n",
        "train = train_data.drop(drop_columns,axis=1)\n",
        "test = test_data.drop(drop_columns,axis=1)\n",
        "test.head()"
      ],
      "metadata": {
        "colab": {
          "base_uri": "https://localhost:8080/",
          "height": 206
        },
        "id": "lCB8wJpBOfgd",
        "outputId": "63f10406-f4b7-40a4-f27a-f6b2e697dfd6"
      },
      "execution_count": 110,
      "outputs": [
        {
          "output_type": "execute_result",
          "data": {
            "text/plain": [
              "  dong  exclusive_use_area  year_of_completion  transaction_year_month  \\\n",
              "0   목동            3.598681                2002                  201711   \n",
              "3  대치동            4.723309                2004                  201707   \n",
              "6  염창동            4.453300                2004                  201711   \n",
              "7  암사동            4.638025                2008                  201712   \n",
              "8  신정동            4.673389                1987                  201712   \n",
              "\n",
              "  transaction_date  floor  \n",
              "0            11~20      2  \n",
              "3             1~10     10  \n",
              "6             1~10     13  \n",
              "7            21~31      9  \n",
              "8            11~20      4  "
            ],
            "text/html": [
              "\n",
              "  <div id=\"df-c19bf1a7-f96c-4d28-8833-609bd6eb0821\">\n",
              "    <div class=\"colab-df-container\">\n",
              "      <div>\n",
              "<style scoped>\n",
              "    .dataframe tbody tr th:only-of-type {\n",
              "        vertical-align: middle;\n",
              "    }\n",
              "\n",
              "    .dataframe tbody tr th {\n",
              "        vertical-align: top;\n",
              "    }\n",
              "\n",
              "    .dataframe thead th {\n",
              "        text-align: right;\n",
              "    }\n",
              "</style>\n",
              "<table border=\"1\" class=\"dataframe\">\n",
              "  <thead>\n",
              "    <tr style=\"text-align: right;\">\n",
              "      <th></th>\n",
              "      <th>dong</th>\n",
              "      <th>exclusive_use_area</th>\n",
              "      <th>year_of_completion</th>\n",
              "      <th>transaction_year_month</th>\n",
              "      <th>transaction_date</th>\n",
              "      <th>floor</th>\n",
              "    </tr>\n",
              "  </thead>\n",
              "  <tbody>\n",
              "    <tr>\n",
              "      <th>0</th>\n",
              "      <td>목동</td>\n",
              "      <td>3.598681</td>\n",
              "      <td>2002</td>\n",
              "      <td>201711</td>\n",
              "      <td>11~20</td>\n",
              "      <td>2</td>\n",
              "    </tr>\n",
              "    <tr>\n",
              "      <th>3</th>\n",
              "      <td>대치동</td>\n",
              "      <td>4.723309</td>\n",
              "      <td>2004</td>\n",
              "      <td>201707</td>\n",
              "      <td>1~10</td>\n",
              "      <td>10</td>\n",
              "    </tr>\n",
              "    <tr>\n",
              "      <th>6</th>\n",
              "      <td>염창동</td>\n",
              "      <td>4.453300</td>\n",
              "      <td>2004</td>\n",
              "      <td>201711</td>\n",
              "      <td>1~10</td>\n",
              "      <td>13</td>\n",
              "    </tr>\n",
              "    <tr>\n",
              "      <th>7</th>\n",
              "      <td>암사동</td>\n",
              "      <td>4.638025</td>\n",
              "      <td>2008</td>\n",
              "      <td>201712</td>\n",
              "      <td>21~31</td>\n",
              "      <td>9</td>\n",
              "    </tr>\n",
              "    <tr>\n",
              "      <th>8</th>\n",
              "      <td>신정동</td>\n",
              "      <td>4.673389</td>\n",
              "      <td>1987</td>\n",
              "      <td>201712</td>\n",
              "      <td>11~20</td>\n",
              "      <td>4</td>\n",
              "    </tr>\n",
              "  </tbody>\n",
              "</table>\n",
              "</div>\n",
              "      <button class=\"colab-df-convert\" onclick=\"convertToInteractive('df-c19bf1a7-f96c-4d28-8833-609bd6eb0821')\"\n",
              "              title=\"Convert this dataframe to an interactive table.\"\n",
              "              style=\"display:none;\">\n",
              "        \n",
              "  <svg xmlns=\"http://www.w3.org/2000/svg\" height=\"24px\"viewBox=\"0 0 24 24\"\n",
              "       width=\"24px\">\n",
              "    <path d=\"M0 0h24v24H0V0z\" fill=\"none\"/>\n",
              "    <path d=\"M18.56 5.44l.94 2.06.94-2.06 2.06-.94-2.06-.94-.94-2.06-.94 2.06-2.06.94zm-11 1L8.5 8.5l.94-2.06 2.06-.94-2.06-.94L8.5 2.5l-.94 2.06-2.06.94zm10 10l.94 2.06.94-2.06 2.06-.94-2.06-.94-.94-2.06-.94 2.06-2.06.94z\"/><path d=\"M17.41 7.96l-1.37-1.37c-.4-.4-.92-.59-1.43-.59-.52 0-1.04.2-1.43.59L10.3 9.45l-7.72 7.72c-.78.78-.78 2.05 0 2.83L4 21.41c.39.39.9.59 1.41.59.51 0 1.02-.2 1.41-.59l7.78-7.78 2.81-2.81c.8-.78.8-2.07 0-2.86zM5.41 20L4 18.59l7.72-7.72 1.47 1.35L5.41 20z\"/>\n",
              "  </svg>\n",
              "      </button>\n",
              "      \n",
              "  <style>\n",
              "    .colab-df-container {\n",
              "      display:flex;\n",
              "      flex-wrap:wrap;\n",
              "      gap: 12px;\n",
              "    }\n",
              "\n",
              "    .colab-df-convert {\n",
              "      background-color: #E8F0FE;\n",
              "      border: none;\n",
              "      border-radius: 50%;\n",
              "      cursor: pointer;\n",
              "      display: none;\n",
              "      fill: #1967D2;\n",
              "      height: 32px;\n",
              "      padding: 0 0 0 0;\n",
              "      width: 32px;\n",
              "    }\n",
              "\n",
              "    .colab-df-convert:hover {\n",
              "      background-color: #E2EBFA;\n",
              "      box-shadow: 0px 1px 2px rgba(60, 64, 67, 0.3), 0px 1px 3px 1px rgba(60, 64, 67, 0.15);\n",
              "      fill: #174EA6;\n",
              "    }\n",
              "\n",
              "    [theme=dark] .colab-df-convert {\n",
              "      background-color: #3B4455;\n",
              "      fill: #D2E3FC;\n",
              "    }\n",
              "\n",
              "    [theme=dark] .colab-df-convert:hover {\n",
              "      background-color: #434B5C;\n",
              "      box-shadow: 0px 1px 3px 1px rgba(0, 0, 0, 0.15);\n",
              "      filter: drop-shadow(0px 1px 2px rgba(0, 0, 0, 0.3));\n",
              "      fill: #FFFFFF;\n",
              "    }\n",
              "  </style>\n",
              "\n",
              "      <script>\n",
              "        const buttonEl =\n",
              "          document.querySelector('#df-c19bf1a7-f96c-4d28-8833-609bd6eb0821 button.colab-df-convert');\n",
              "        buttonEl.style.display =\n",
              "          google.colab.kernel.accessAllowed ? 'block' : 'none';\n",
              "\n",
              "        async function convertToInteractive(key) {\n",
              "          const element = document.querySelector('#df-c19bf1a7-f96c-4d28-8833-609bd6eb0821');\n",
              "          const dataTable =\n",
              "            await google.colab.kernel.invokeFunction('convertToInteractive',\n",
              "                                                     [key], {});\n",
              "          if (!dataTable) return;\n",
              "\n",
              "          const docLinkHtml = 'Like what you see? Visit the ' +\n",
              "            '<a target=\"_blank\" href=https://colab.research.google.com/notebooks/data_table.ipynb>data table notebook</a>'\n",
              "            + ' to learn more about interactive tables.';\n",
              "          element.innerHTML = '';\n",
              "          dataTable['output_type'] = 'display_data';\n",
              "          await google.colab.output.renderOutput(dataTable, element);\n",
              "          const docLink = document.createElement('div');\n",
              "          docLink.innerHTML = docLinkHtml;\n",
              "          element.appendChild(docLink);\n",
              "        }\n",
              "      </script>\n",
              "    </div>\n",
              "  </div>\n",
              "  "
            ]
          },
          "metadata": {},
          "execution_count": 110
        }
      ]
    },
    {
      "cell_type": "code",
      "source": [
        "train['transaction_real_price'] = np.expm1(train_data['transaction_real_price'])\n",
        "\n",
        "f,ax=plt.subplots(figsize=(8,6))\n",
        "plt.scatter(train['exclusive_use_area'],train['transaction_real_price'])\n",
        "plt.xlabel('exclusive_use_area')\n",
        "plt.ylabel('transaction_real_price')\n",
        "plt.show()"
      ],
      "metadata": {
        "colab": {
          "base_uri": "https://localhost:8080/",
          "height": 389
        },
        "id": "31CPW16-KcWg",
        "outputId": "bc27f8ae-fcd1-4ba2-fe35-925dbc673bc5"
      },
      "execution_count": 111,
      "outputs": [
        {
          "output_type": "display_data",
          "data": {
            "text/plain": [
              "<Figure size 576x432 with 1 Axes>"
            ],
            "image/png": "[encoded data removed]"
          },
          "metadata": {
            "needs_background": "light"
          }
        }
      ]
    },
    {
      "cell_type": "code",
      "source": [
        "train_data['transaction_real_price'] = np.log1p(train_data['transaction_real_price'])"
      ],
      "metadata": {
        "id": "gv0qG_KhDTeF"
      },
      "execution_count": 112,
      "outputs": []
    },
    {
      "cell_type": "code",
      "source": [
        "f,ax=plt.subplots(figsize=(8,6))\n",
        "sns.distplot(train['exclusive_use_area'])"
      ],
      "metadata": {
        "colab": {
          "base_uri": "https://localhost:8080/",
          "height": 407
        },
        "id": "Ga6fptwypWWb",
        "outputId": "95903778-ac58-4358-9c30-ef21ab8b9a5f"
      },
      "execution_count": 113,
      "outputs": [
        {
          "output_type": "execute_result",
          "data": {
            "text/plain": [
              "<matplotlib.axes._subplots.AxesSubplot at 0x7f5c333b5dc0>"
            ]
          },
          "metadata": {},
          "execution_count": 113
        },
        {
          "output_type": "display_data",
          "data": {
            "text/plain": [
              "<Figure size 576x432 with 1 Axes>"
            ],
            "image/png": "[encoded data removed]"
          },
          "metadata": {
            "needs_background": "light"
          }
        }
      ]
    },
    {
      "cell_type": "code",
      "source": [
        "# train[train['floor'] < 0].head() #오마이갓...지하가 있었어..."
      ],
      "metadata": {
        "id": "HnVdhh2RvUx1"
      },
      "execution_count": 114,
      "outputs": []
    },
    {
      "cell_type": "code",
      "source": [
        "# floor에 log처리\n",
        "\n",
        "train['floor']=np.log(train['floor']+5)\n",
        "test['floor']=np.log(test['floor']+5)\n",
        "f,ax=plt.subplots(figsize=(8,6))\n",
        "sns.distplot(train['floor'])\n",
        "print(\"%s->Skewness: %f, Kurtosis: %f\"%('floor',train['floor'].skew(),train['floor'].kurt()))"
      ],
      "metadata": {
        "colab": {
          "base_uri": "https://localhost:8080/",
          "height": 406
        },
        "id": "WCB_msoCxYV4",
        "outputId": "cc6fed29-a8f3-450b-e61a-b5ae6d34d212"
      },
      "execution_count": 115,
      "outputs": [
        {
          "output_type": "stream",
          "name": "stdout",
          "text": [
            "floor->Skewness: 0.032724, Kurtosis: -0.670766\n"
          ]
        },
        {
          "output_type": "display_data",
          "data": {
            "text/plain": [
              "<Figure size 576x432 with 1 Axes>"
            ],
            "image/png": "[encoded data removed]"
          },
          "metadata": {
            "needs_background": "light"
          }
        }
      ]
    },
    {
      "cell_type": "code",
      "source": [
        "train_test_data=[train,test]\n",
        "for dataset in train_test_data:\n",
        "    dataset['transaction_year_month']=dataset['transaction_year_month'].astype(str)\n",
        "    dataset['year']=dataset['transaction_year_month'].str[:4].astype(int)\n",
        "    dataset['month']=dataset['transaction_year_month'].str[4:6].astype(int)\n",
        "    dataset['transaction_year_month']=dataset['transaction_year_month'].astype(int)"
      ],
      "metadata": {
        "id": "Aebsh1ZIq8Sl"
      },
      "execution_count": 116,
      "outputs": []
    },
    {
      "cell_type": "code",
      "source": [
        "train = train.drop('transaction_year_month',axis=1)\n",
        "test = test.drop('transaction_year_month',axis=1)\n",
        "train.head()"
      ],
      "metadata": {
        "colab": {
          "base_uri": "https://localhost:8080/",
          "height": 357
        },
        "id": "IvPFzguxpVzH",
        "outputId": "1185e91f-55e0-4929-b26b-f15d1baf6666"
      },
      "execution_count": 117,
      "outputs": [
        {
          "output_type": "execute_result",
          "data": {
            "text/plain": [
              "  dong  exclusive_use_area  year_of_completion transaction_date     floor  \\\n",
              "0  신교동            4.452252                2002            21~31  1.945910   \n",
              "1  필운동            4.606869                1973             1~10  2.397895   \n",
              "2  필운동            4.451319                2007             1~10  2.397895   \n",
              "3  내수동            4.993082                2003            11~20  2.995732   \n",
              "4  내수동            5.275202                2004            21~31  2.079442   \n",
              "\n",
              "   transaction_real_price  year  month  \n",
              "0                 37500.0  2008      1  \n",
              "1                 20000.0  2008      1  \n",
              "2                 38500.0  2008      1  \n",
              "3                118000.0  2008      1  \n",
              "4                120000.0  2008      1  "
            ],
            "text/html": [
              "\n",
              "  <div id=\"df-55d40d53-5f35-428f-8def-882311bfbd6c\">\n",
              "    <div class=\"colab-df-container\">\n",
              "      <div>\n",
              "<style scoped>\n",
              "    .dataframe tbody tr th:only-of-type {\n",
              "        vertical-align: middle;\n",
              "    }\n",
              "\n",
              "    .dataframe tbody tr th {\n",
              "        vertical-align: top;\n",
              "    }\n",
              "\n",
              "    .dataframe thead th {\n",
              "        text-align: right;\n",
              "    }\n",
              "</style>\n",
              "<table border=\"1\" class=\"dataframe\">\n",
              "  <thead>\n",
              "    <tr style=\"text-align: right;\">\n",
              "      <th></th>\n",
              "      <th>dong</th>\n",
              "      <th>exclusive_use_area</th>\n",
              "      <th>year_of_completion</th>\n",
              "      <th>transaction_date</th>\n",
              "      <th>floor</th>\n",
              "      <th>transaction_real_price</th>\n",
              "      <th>year</th>\n",
              "      <th>month</th>\n",
              "    </tr>\n",
              "  </thead>\n",
              "  <tbody>\n",
              "    <tr>\n",
              "      <th>0</th>\n",
              "      <td>신교동</td>\n",
              "      <td>4.452252</td>\n",
              "      <td>2002</td>\n",
              "      <td>21~31</td>\n",
              "      <td>1.945910</td>\n",
              "      <td>37500.0</td>\n",
              "      <td>2008</td>\n",
              "      <td>1</td>\n",
              "    </tr>\n",
              "    <tr>\n",
              "      <th>1</th>\n",
              "      <td>필운동</td>\n",
              "      <td>4.606869</td>\n",
              "      <td>1973</td>\n",
              "      <td>1~10</td>\n",
              "      <td>2.397895</td>\n",
              "      <td>20000.0</td>\n",
              "      <td>2008</td>\n",
              "      <td>1</td>\n",
              "    </tr>\n",
              "    <tr>\n",
              "      <th>2</th>\n",
              "      <td>필운동</td>\n",
              "      <td>4.451319</td>\n",
              "      <td>2007</td>\n",
              "      <td>1~10</td>\n",
              "      <td>2.397895</td>\n",
              "      <td>38500.0</td>\n",
              "      <td>2008</td>\n",
              "      <td>1</td>\n",
              "    </tr>\n",
              "    <tr>\n",
              "      <th>3</th>\n",
              "      <td>내수동</td>\n",
              "      <td>4.993082</td>\n",
              "      <td>2003</td>\n",
              "      <td>11~20</td>\n",
              "      <td>2.995732</td>\n",
              "      <td>118000.0</td>\n",
              "      <td>2008</td>\n",
              "      <td>1</td>\n",
              "    </tr>\n",
              "    <tr>\n",
              "      <th>4</th>\n",
              "      <td>내수동</td>\n",
              "      <td>5.275202</td>\n",
              "      <td>2004</td>\n",
              "      <td>21~31</td>\n",
              "      <td>2.079442</td>\n",
              "      <td>120000.0</td>\n",
              "      <td>2008</td>\n",
              "      <td>1</td>\n",
              "    </tr>\n",
              "  </tbody>\n",
              "</table>\n",
              "</div>\n",
              "      <button class=\"colab-df-convert\" onclick=\"convertToInteractive('df-55d40d53-5f35-428f-8def-882311bfbd6c')\"\n",
              "              title=\"Convert this dataframe to an interactive table.\"\n",
              "              style=\"display:none;\">\n",
              "        \n",
              "  <svg xmlns=\"http://www.w3.org/2000/svg\" height=\"24px\"viewBox=\"0 0 24 24\"\n",
              "       width=\"24px\">\n",
              "    <path d=\"M0 0h24v24H0V0z\" fill=\"none\"/>\n",
              "    <path d=\"M18.56 5.44l.94 2.06.94-2.06 2.06-.94-2.06-.94-.94-2.06-.94 2.06-2.06.94zm-11 1L8.5 8.5l.94-2.06 2.06-.94-2.06-.94L8.5 2.5l-.94 2.06-2.06.94zm10 10l.94 2.06.94-2.06 2.06-.94-2.06-.94-.94-2.06-.94 2.06-2.06.94z\"/><path d=\"M17.41 7.96l-1.37-1.37c-.4-.4-.92-.59-1.43-.59-.52 0-1.04.2-1.43.59L10.3 9.45l-7.72 7.72c-.78.78-.78 2.05 0 2.83L4 21.41c.39.39.9.59 1.41.59.51 0 1.02-.2 1.41-.59l7.78-7.78 2.81-2.81c.8-.78.8-2.07 0-2.86zM5.41 20L4 18.59l7.72-7.72 1.47 1.35L5.41 20z\"/>\n",
              "  </svg>\n",
              "      </button>\n",
              "      \n",
              "  <style>\n",
              "    .colab-df-container {\n",
              "      display:flex;\n",
              "      flex-wrap:wrap;\n",
              "      gap: 12px;\n",
              "    }\n",
              "\n",
              "    .colab-df-convert {\n",
              "      background-color: #E8F0FE;\n",
              "      border: none;\n",
              "      border-radius: 50%;\n",
              "      cursor: pointer;\n",
              "      display: none;\n",
              "      fill: #1967D2;\n",
              "      height: 32px;\n",
              "      padding: 0 0 0 0;\n",
              "      width: 32px;\n",
              "    }\n",
              "\n",
              "    .colab-df-convert:hover {\n",
              "      background-color: #E2EBFA;\n",
              "      box-shadow: 0px 1px 2px rgba(60, 64, 67, 0.3), 0px 1px 3px 1px rgba(60, 64, 67, 0.15);\n",
              "      fill: #174EA6;\n",
              "    }\n",
              "\n",
              "    [theme=dark] .colab-df-convert {\n",
              "      background-color: #3B4455;\n",
              "      fill: #D2E3FC;\n",
              "    }\n",
              "\n",
              "    [theme=dark] .colab-df-convert:hover {\n",
              "      background-color: #434B5C;\n",
              "      box-shadow: 0px 1px 3px 1px rgba(0, 0, 0, 0.15);\n",
              "      filter: drop-shadow(0px 1px 2px rgba(0, 0, 0, 0.3));\n",
              "      fill: #FFFFFF;\n",
              "    }\n",
              "  </style>\n",
              "\n",
              "      <script>\n",
              "        const buttonEl =\n",
              "          document.querySelector('#df-55d40d53-5f35-428f-8def-882311bfbd6c button.colab-df-convert');\n",
              "        buttonEl.style.display =\n",
              "          google.colab.kernel.accessAllowed ? 'block' : 'none';\n",
              "\n",
              "        async function convertToInteractive(key) {\n",
              "          const element = document.querySelector('#df-55d40d53-5f35-428f-8def-882311bfbd6c');\n",
              "          const dataTable =\n",
              "            await google.colab.kernel.invokeFunction('convertToInteractive',\n",
              "                                                     [key], {});\n",
              "          if (!dataTable) return;\n",
              "\n",
              "          const docLinkHtml = 'Like what you see? Visit the ' +\n",
              "            '<a target=\"_blank\" href=https://colab.research.google.com/notebooks/data_table.ipynb>data table notebook</a>'\n",
              "            + ' to learn more about interactive tables.';\n",
              "          element.innerHTML = '';\n",
              "          dataTable['output_type'] = 'display_data';\n",
              "          await google.colab.output.renderOutput(dataTable, element);\n",
              "          const docLink = document.createElement('div');\n",
              "          docLink.innerHTML = docLinkHtml;\n",
              "          element.appendChild(docLink);\n",
              "        }\n",
              "      </script>\n",
              "    </div>\n",
              "  </div>\n",
              "  "
            ]
          },
          "metadata": {},
          "execution_count": 117
        }
      ]
    },
    {
      "cell_type": "code",
      "source": [
        "train_dong=train[['transaction_real_price','dong']].groupby('dong').mean().sort_values('transaction_real_price').reset_index()\n",
        "train_dong.head()"
      ],
      "metadata": {
        "colab": {
          "base_uri": "https://localhost:8080/",
          "height": 206
        },
        "id": "LFjZWWtEKHuG",
        "outputId": "08c2a95c-4424-48d3-a509-bd6a50621dbb"
      },
      "execution_count": 118,
      "outputs": [
        {
          "output_type": "execute_result",
          "data": {
            "text/plain": [
              "     dong  transaction_real_price\n",
              "0   장충동2가             6628.421053\n",
              "1    필동1가             8466.666667\n",
              "2     누상동            10650.000000\n",
              "3  영등포동3가            11515.652174\n",
              "4  영등포동2가            12402.040816"
            ],
            "text/html": [
              "\n",
              "  <div id=\"df-812e8af1-e814-4640-ae0a-b079944d4dfb\">\n",
              "    <div class=\"colab-df-container\">\n",
              "      <div>\n",
              "<style scoped>\n",
              "    .dataframe tbody tr th:only-of-type {\n",
              "        vertical-align: middle;\n",
              "    }\n",
              "\n",
              "    .dataframe tbody tr th {\n",
              "        vertical-align: top;\n",
              "    }\n",
              "\n",
              "    .dataframe thead th {\n",
              "        text-align: right;\n",
              "    }\n",
              "</style>\n",
              "<table border=\"1\" class=\"dataframe\">\n",
              "  <thead>\n",
              "    <tr style=\"text-align: right;\">\n",
              "      <th></th>\n",
              "      <th>dong</th>\n",
              "      <th>transaction_real_price</th>\n",
              "    </tr>\n",
              "  </thead>\n",
              "  <tbody>\n",
              "    <tr>\n",
              "      <th>0</th>\n",
              "      <td>장충동2가</td>\n",
              "      <td>6628.421053</td>\n",
              "    </tr>\n",
              "    <tr>\n",
              "      <th>1</th>\n",
              "      <td>필동1가</td>\n",
              "      <td>8466.666667</td>\n",
              "    </tr>\n",
              "    <tr>\n",
              "      <th>2</th>\n",
              "      <td>누상동</td>\n",
              "      <td>10650.000000</td>\n",
              "    </tr>\n",
              "    <tr>\n",
              "      <th>3</th>\n",
              "      <td>영등포동3가</td>\n",
              "      <td>11515.652174</td>\n",
              "    </tr>\n",
              "    <tr>\n",
              "      <th>4</th>\n",
              "      <td>영등포동2가</td>\n",
              "      <td>12402.040816</td>\n",
              "    </tr>\n",
              "  </tbody>\n",
              "</table>\n",
              "</div>\n",
              "      <button class=\"colab-df-convert\" onclick=\"convertToInteractive('df-812e8af1-e814-4640-ae0a-b079944d4dfb')\"\n",
              "              title=\"Convert this dataframe to an interactive table.\"\n",
              "              style=\"display:none;\">\n",
              "        \n",
              "  <svg xmlns=\"http://www.w3.org/2000/svg\" height=\"24px\"viewBox=\"0 0 24 24\"\n",
              "       width=\"24px\">\n",
              "    <path d=\"M0 0h24v24H0V0z\" fill=\"none\"/>\n",
              "    <path d=\"M18.56 5.44l.94 2.06.94-2.06 2.06-.94-2.06-.94-.94-2.06-.94 2.06-2.06.94zm-11 1L8.5 8.5l.94-2.06 2.06-.94-2.06-.94L8.5 2.5l-.94 2.06-2.06.94zm10 10l.94 2.06.94-2.06 2.06-.94-2.06-.94-.94-2.06-.94 2.06-2.06.94z\"/><path d=\"M17.41 7.96l-1.37-1.37c-.4-.4-.92-.59-1.43-.59-.52 0-1.04.2-1.43.59L10.3 9.45l-7.72 7.72c-.78.78-.78 2.05 0 2.83L4 21.41c.39.39.9.59 1.41.59.51 0 1.02-.2 1.41-.59l7.78-7.78 2.81-2.81c.8-.78.8-2.07 0-2.86zM5.41 20L4 18.59l7.72-7.72 1.47 1.35L5.41 20z\"/>\n",
              "  </svg>\n",
              "      </button>\n",
              "      \n",
              "  <style>\n",
              "    .colab-df-container {\n",
              "      display:flex;\n",
              "      flex-wrap:wrap;\n",
              "      gap: 12px;\n",
              "    }\n",
              "\n",
              "    .colab-df-convert {\n",
              "      background-color: #E8F0FE;\n",
              "      border: none;\n",
              "      border-radius: 50%;\n",
              "      cursor: pointer;\n",
              "      display: none;\n",
              "      fill: #1967D2;\n",
              "      height: 32px;\n",
              "      padding: 0 0 0 0;\n",
              "      width: 32px;\n",
              "    }\n",
              "\n",
              "    .colab-df-convert:hover {\n",
              "      background-color: #E2EBFA;\n",
              "      box-shadow: 0px 1px 2px rgba(60, 64, 67, 0.3), 0px 1px 3px 1px rgba(60, 64, 67, 0.15);\n",
              "      fill: #174EA6;\n",
              "    }\n",
              "\n",
              "    [theme=dark] .colab-df-convert {\n",
              "      background-color: #3B4455;\n",
              "      fill: #D2E3FC;\n",
              "    }\n",
              "\n",
              "    [theme=dark] .colab-df-convert:hover {\n",
              "      background-color: #434B5C;\n",
              "      box-shadow: 0px 1px 3px 1px rgba(0, 0, 0, 0.15);\n",
              "      filter: drop-shadow(0px 1px 2px rgba(0, 0, 0, 0.3));\n",
              "      fill: #FFFFFF;\n",
              "    }\n",
              "  </style>\n",
              "\n",
              "      <script>\n",
              "        const buttonEl =\n",
              "          document.querySelector('#df-812e8af1-e814-4640-ae0a-b079944d4dfb button.colab-df-convert');\n",
              "        buttonEl.style.display =\n",
              "          google.colab.kernel.accessAllowed ? 'block' : 'none';\n",
              "\n",
              "        async function convertToInteractive(key) {\n",
              "          const element = document.querySelector('#df-812e8af1-e814-4640-ae0a-b079944d4dfb');\n",
              "          const dataTable =\n",
              "            await google.colab.kernel.invokeFunction('convertToInteractive',\n",
              "                                                     [key], {});\n",
              "          if (!dataTable) return;\n",
              "\n",
              "          const docLinkHtml = 'Like what you see? Visit the ' +\n",
              "            '<a target=\"_blank\" href=https://colab.research.google.com/notebooks/data_table.ipynb>data table notebook</a>'\n",
              "            + ' to learn more about interactive tables.';\n",
              "          element.innerHTML = '';\n",
              "          dataTable['output_type'] = 'display_data';\n",
              "          await google.colab.output.renderOutput(dataTable, element);\n",
              "          const docLink = document.createElement('div');\n",
              "          docLink.innerHTML = docLinkHtml;\n",
              "          element.appendChild(docLink);\n",
              "        }\n",
              "      </script>\n",
              "    </div>\n",
              "  </div>\n",
              "  "
            ]
          },
          "metadata": {},
          "execution_count": 118
        }
      ]
    },
    {
      "cell_type": "code",
      "source": [
        "dong_num={}\n",
        "for i in range(len(train_dong)):\n",
        "    dong=train_dong['dong'].iloc[i]\n",
        "    dong_num[dong]=i\n",
        "dong_num"
      ],
      "metadata": {
        "colab": {
          "base_uri": "https://localhost:8080/"
        },
        "id": "rs5gOWLKK1V0",
        "outputId": "a418b4ad-f22d-4f46-a364-e865144725e0"
      },
      "execution_count": 119,
      "outputs": [
        {
          "output_type": "execute_result",
          "data": {
            "text/plain": [
              "{'장충동2가': 0,\n",
              " '필동1가': 1,\n",
              " '누상동': 2,\n",
              " '영등포동3가': 3,\n",
              " '영등포동2가': 4,\n",
              " '미근동': 5,\n",
              " '오장동': 6,\n",
              " '영등포동4가': 7,\n",
              " '영등포동1가': 8,\n",
              " '행촌동': 9,\n",
              " '안암동4가': 10,\n",
              " '당산동6가': 11,\n",
              " '통인동': 12,\n",
              " '충신동': 13,\n",
              " '연건동': 14,\n",
              " '동숭동': 15,\n",
              " '성북동': 16,\n",
              " '남창동': 17,\n",
              " '효제동': 18,\n",
              " '명륜3가': 19,\n",
              " '인현동2가': 20,\n",
              " '대조동': 21,\n",
              " '노고산동': 22,\n",
              " '안암동3가': 23,\n",
              " '만리동2가': 24,\n",
              " '익선동': 25,\n",
              " '원효로2가': 26,\n",
              " '동소문동6가': 27,\n",
              " '가리봉동': 28,\n",
              " '영등포동5가': 29,\n",
              " '쌍문동': 30,\n",
              " '묵정동': 31,\n",
              " '삼선동5가': 32,\n",
              " '충무로5가': 33,\n",
              " '상계동': 34,\n",
              " '신영동': 35,\n",
              " '갈현동': 36,\n",
              " '가산동': 37,\n",
              " '낙원동': 38,\n",
              " '동선동4가': 39,\n",
              " '신월동': 40,\n",
              " '번동': 41,\n",
              " '도봉동': 42,\n",
              " '독산동': 43,\n",
              " '원효로3가': 44,\n",
              " '수유동': 45,\n",
              " '월계동': 46,\n",
              " '화양동': 47,\n",
              " '신내동': 48,\n",
              " '시흥동': 49,\n",
              " '구산동': 50,\n",
              " '상도1동': 51,\n",
              " '공릉동': 52,\n",
              " '창천동': 53,\n",
              " '오류동': 54,\n",
              " '중곡동': 55,\n",
              " '망우동': 56,\n",
              " '궁동': 57,\n",
              " '방학동': 58,\n",
              " '신설동': 59,\n",
              " '문래동2가': 60,\n",
              " '이화동': 61,\n",
              " '산림동': 62,\n",
              " '면목동': 63,\n",
              " '구로동': 64,\n",
              " '부암동': 65,\n",
              " '창동': 66,\n",
              " '방화동': 67,\n",
              " '중화동': 68,\n",
              " '역촌동': 69,\n",
              " '보문동6가': 70,\n",
              " '양평동2가': 71,\n",
              " '보문동2가': 72,\n",
              " '당산동2가': 73,\n",
              " '사근동': 74,\n",
              " '동소문동4가': 75,\n",
              " '능동': 76,\n",
              " '문래동6가': 77,\n",
              " '정릉동': 78,\n",
              " '회기동': 79,\n",
              " '우이동': 80,\n",
              " '가양동': 81,\n",
              " '신림동': 82,\n",
              " '하계동': 83,\n",
              " '고척동': 84,\n",
              " '상월곡동': 85,\n",
              " '증산동': 86,\n",
              " '창신동': 87,\n",
              " '홍익동': 88,\n",
              " '양평동1가': 89,\n",
              " '예장동': 90,\n",
              " '중계동': 91,\n",
              " '충정로3가': 92,\n",
              " '양평동6가': 93,\n",
              " '항동': 94,\n",
              " '청파동1가': 95,\n",
              " '개봉동': 96,\n",
              " '홍은동': 97,\n",
              " '묵동': 98,\n",
              " '남산동2가': 99,\n",
              " '문래동5가': 100,\n",
              " '삼전동': 101,\n",
              " '휘경동': 102,\n",
              " '대림동': 103,\n",
              " '길동': 104,\n",
              " '녹번동': 105,\n",
              " '수송동': 106,\n",
              " '동선동5가': 107,\n",
              " '상봉동': 108,\n",
              " '동선동3가': 109,\n",
              " '홍제동': 110,\n",
              " '신사동': 111,\n",
              " '마포동': 112,\n",
              " '용답동': 113,\n",
              " '천연동': 114,\n",
              " '천호동': 115,\n",
              " '응암동': 116,\n",
              " '수색동': 117,\n",
              " '영등포동7가': 118,\n",
              " '미아동': 119,\n",
              " '양평동4가': 120,\n",
              " '석관동': 121,\n",
              " '연희동': 122,\n",
              " '신길동': 123,\n",
              " '제기동': 124,\n",
              " '등촌동': 125,\n",
              " '답십리동': 126,\n",
              " '숭인동': 127,\n",
              " '장위동': 128,\n",
              " '돈암동': 129,\n",
              " '교북동': 130,\n",
              " '공항동': 131,\n",
              " '을지로5가': 132,\n",
              " '양평동5가': 133,\n",
              " '장안동': 134,\n",
              " '충정로2가': 135,\n",
              " '거여동': 136,\n",
              " '삼선동4가': 137,\n",
              " '이문동': 138,\n",
              " '성내동': 139,\n",
              " '송정동': 140,\n",
              " '봉천동': 141,\n",
              " '명륜1가': 142,\n",
              " '망원동': 143,\n",
              " '문래동4가': 144,\n",
              " '대현동': 145,\n",
              " '양평동3가': 146,\n",
              " '천왕동': 147,\n",
              " '마장동': 148,\n",
              " '종암동': 149,\n",
              " '염창동': 150,\n",
              " '온수동': 151,\n",
              " '불광동': 152,\n",
              " '화곡동': 153,\n",
              " '당산동1가': 154,\n",
              " '성산동': 155,\n",
              " '전농동': 156,\n",
              " '안암동1가': 157,\n",
              " '연남동': 158,\n",
              " '동소문동7가': 159,\n",
              " '청량리동': 160,\n",
              " '강일동': 161,\n",
              " '내발산동': 162,\n",
              " '용두동': 163,\n",
              " '하월곡동': 164,\n",
              " '성북동1가': 165,\n",
              " '삼선동2가': 166,\n",
              " '구수동': 167,\n",
              " '영등포동': 168,\n",
              " '노량진동': 169,\n",
              " '마천동': 170,\n",
              " '필동3가': 171,\n",
              " '중동': 172,\n",
              " '북아현동': 173,\n",
              " '남현동': 174,\n",
              " '도림동': 175,\n",
              " '길음동': 176,\n",
              " '청파동3가': 177,\n",
              " '구기동': 178,\n",
              " '당산동': 179,\n",
              " '현저동': 180,\n",
              " '혜화동': 181,\n",
              " '군자동': 182,\n",
              " '도선동': 183,\n",
              " '풍납동': 184,\n",
              " '보문동3가': 185,\n",
              " '금호동1가': 186,\n",
              " '남가좌동': 187,\n",
              " '보문동4가': 188,\n",
              " '신문로1가': 189,\n",
              " '용산동2가': 190,\n",
              " '영천동': 191,\n",
              " '신교동': 192,\n",
              " '대방동': 193,\n",
              " '북가좌동': 194,\n",
              " '당산동3가': 195,\n",
              " '신창동': 196,\n",
              " '하왕십리동': 197,\n",
              " '신수동': 198,\n",
              " '영등포동8가': 199,\n",
              " '명일동': 200,\n",
              " '응봉동': 201,\n",
              " '산천동': 202,\n",
              " '신도림동': 203,\n",
              " '순화동': 204,\n",
              " '사당동': 205,\n",
              " '금호동3가': 206,\n",
              " '토정동': 207,\n",
              " '갈월동': 208,\n",
              " '당산동4가': 209,\n",
              " '도화동': 210,\n",
              " '신대방동': 211,\n",
              " '상일동': 212,\n",
              " '당주동': 213,\n",
              " '동소문동5가': 214,\n",
              " '신정동': 215,\n",
              " '황학동': 216,\n",
              " '후암동': 217,\n",
              " '행당동': 218,\n",
              " '염리동': 219,\n",
              " '본동': 220,\n",
              " '동선동1가': 221,\n",
              " '신당동': 222,\n",
              " '명륜2가': 223,\n",
              " '동교동': 224,\n",
              " '암사동': 225,\n",
              " '진관동': 226,\n",
              " '대흥동': 227,\n",
              " '효창동': 228,\n",
              " '도원동': 229,\n",
              " '창전동': 230,\n",
              " '충무로4가': 231,\n",
              " '양재동': 232,\n",
              " '냉천동': 233,\n",
              " '인의동': 234,\n",
              " '합동': 235,\n",
              " '마곡동': 236,\n",
              " '삼선동3가': 237,\n",
              " '상도동': 238,\n",
              " '합정동': 239,\n",
              " '오금동': 240,\n",
              " '고덕동': 241,\n",
              " '구의동': 242,\n",
              " '수서동': 243,\n",
              " '석촌동': 244,\n",
              " '용문동': 245,\n",
              " '가락동': 246,\n",
              " '만리동1가': 247,\n",
              " '중림동': 248,\n",
              " '자양동': 249,\n",
              " '문배동': 250,\n",
              " '원효로4가': 251,\n",
              " '공덕동': 252,\n",
              " '성수동2가': 253,\n",
              " '금호동4가': 254,\n",
              " '장지동': 255,\n",
              " '신공덕동': 256,\n",
              " '무악동': 257,\n",
              " '문래동3가': 258,\n",
              " '당산동5가': 259,\n",
              " '현석동': 260,\n",
              " '상암동': 261,\n",
              " '정동': 262,\n",
              " '둔촌동': 263,\n",
              " '필운동': 264,\n",
              " '문정동': 265,\n",
              " '흑석동': 266,\n",
              " '청운동': 267,\n",
              " '옥수동': 268,\n",
              " '광장동': 269,\n",
              " '송파동': 270,\n",
              " '옥인동': 271,\n",
              " '금호동2가': 272,\n",
              " '보광동': 273,\n",
              " '용강동': 274,\n",
              " '성수동1가': 275,\n",
              " '아현동': 276,\n",
              " '동작동': 277,\n",
              " '목동': 278,\n",
              " '세곡동': 279,\n",
              " '논현동': 280,\n",
              " '우면동': 281,\n",
              " '역삼동': 282,\n",
              " '한강로2가': 283,\n",
              " '평창동': 284,\n",
              " '율현동': 285,\n",
              " '흥인동': 286,\n",
              " '이태원동': 287,\n",
              " '개포동': 288,\n",
              " '신원동': 289,\n",
              " '상왕십리동': 290,\n",
              " '일원동': 291,\n",
              " '상수동': 292,\n",
              " '내곡동': 293,\n",
              " '방이동': 294,\n",
              " '원효로1가': 295,\n",
              " '한강로1가': 296,\n",
              " '서초동': 297,\n",
              " '자곡동': 298,\n",
              " '신계동': 299,\n",
              " '신천동': 300,\n",
              " '방배동': 301,\n",
              " '잠원동': 302,\n",
              " '견지동': 303,\n",
              " '서교동': 304,\n",
              " '이촌동': 305,\n",
              " '사직동': 306,\n",
              " '여의도동': 307,\n",
              " '한강로3가': 308,\n",
              " '회현동1가': 309,\n",
              " '동빙고동': 310,\n",
              " '동자동': 311,\n",
              " '잠실동': 312,\n",
              " '삼성동': 313,\n",
              " '하중동': 314,\n",
              " '주성동': 315,\n",
              " '내수동': 316,\n",
              " '교남동': 317,\n",
              " '청담동': 318,\n",
              " '도곡동': 319,\n",
              " '남대문로5가': 320,\n",
              " '대치동': 321,\n",
              " '서빙고동': 322,\n",
              " '한남동': 323,\n",
              " '반포동': 324,\n",
              " '회현동2가': 325,\n",
              " '용산동5가': 326,\n",
              " '청암동': 327,\n",
              " '압구정동': 328,\n",
              " '장충동1가': 329}"
            ]
          },
          "metadata": {},
          "execution_count": 119
        }
      ]
    },
    {
      "cell_type": "code",
      "source": [
        "train=train.replace({'dong': dong_num})\n",
        "test=test.replace({'dong':dong_num})\n",
        "train.head()"
      ],
      "metadata": {
        "colab": {
          "base_uri": "https://localhost:8080/",
          "height": 270
        },
        "id": "0C4j1qzdK7FI",
        "outputId": "30ca9cb1-4bd7-4bf0-a9b2-c793869fb98f"
      },
      "execution_count": 120,
      "outputs": [
        {
          "output_type": "execute_result",
          "data": {
            "text/plain": [
              "   dong  exclusive_use_area  year_of_completion transaction_date     floor  \\\n",
              "0   192            4.452252                2002            21~31  1.945910   \n",
              "1   264            4.606869                1973             1~10  2.397895   \n",
              "2   264            4.451319                2007             1~10  2.397895   \n",
              "3   316            4.993082                2003            11~20  2.995732   \n",
              "4   316            5.275202                2004            21~31  2.079442   \n",
              "\n",
              "   transaction_real_price  year  month  \n",
              "0                 37500.0  2008      1  \n",
              "1                 20000.0  2008      1  \n",
              "2                 38500.0  2008      1  \n",
              "3                118000.0  2008      1  \n",
              "4                120000.0  2008      1  "
            ],
            "text/html": [
              "\n",
              "  <div id=\"df-64802cee-70cd-434f-b4b7-bdd15c2ecc8a\">\n",
              "    <div class=\"colab-df-container\">\n",
              "      <div>\n",
              "<style scoped>\n",
              "    .dataframe tbody tr th:only-of-type {\n",
              "        vertical-align: middle;\n",
              "    }\n",
              "\n",
              "    .dataframe tbody tr th {\n",
              "        vertical-align: top;\n",
              "    }\n",
              "\n",
              "    .dataframe thead th {\n",
              "        text-align: right;\n",
              "    }\n",
              "</style>\n",
              "<table border=\"1\" class=\"dataframe\">\n",
              "  <thead>\n",
              "    <tr style=\"text-align: right;\">\n",
              "      <th></th>\n",
              "      <th>dong</th>\n",
              "      <th>exclusive_use_area</th>\n",
              "      <th>year_of_completion</th>\n",
              "      <th>transaction_date</th>\n",
              "      <th>floor</th>\n",
              "      <th>transaction_real_price</th>\n",
              "      <th>year</th>\n",
              "      <th>month</th>\n",
              "    </tr>\n",
              "  </thead>\n",
              "  <tbody>\n",
              "    <tr>\n",
              "      <th>0</th>\n",
              "      <td>192</td>\n",
              "      <td>4.452252</td>\n",
              "      <td>2002</td>\n",
              "      <td>21~31</td>\n",
              "      <td>1.945910</td>\n",
              "      <td>37500.0</td>\n",
              "      <td>2008</td>\n",
              "      <td>1</td>\n",
              "    </tr>\n",
              "    <tr>\n",
              "      <th>1</th>\n",
              "      <td>264</td>\n",
              "      <td>4.606869</td>\n",
              "      <td>1973</td>\n",
              "      <td>1~10</td>\n",
              "      <td>2.397895</td>\n",
              "      <td>20000.0</td>\n",
              "      <td>2008</td>\n",
              "      <td>1</td>\n",
              "    </tr>\n",
              "    <tr>\n",
              "      <th>2</th>\n",
              "      <td>264</td>\n",
              "      <td>4.451319</td>\n",
              "      <td>2007</td>\n",
              "      <td>1~10</td>\n",
              "      <td>2.397895</td>\n",
              "      <td>38500.0</td>\n",
              "      <td>2008</td>\n",
              "      <td>1</td>\n",
              "    </tr>\n",
              "    <tr>\n",
              "      <th>3</th>\n",
              "      <td>316</td>\n",
              "      <td>4.993082</td>\n",
              "      <td>2003</td>\n",
              "      <td>11~20</td>\n",
              "      <td>2.995732</td>\n",
              "      <td>118000.0</td>\n",
              "      <td>2008</td>\n",
              "      <td>1</td>\n",
              "    </tr>\n",
              "    <tr>\n",
              "      <th>4</th>\n",
              "      <td>316</td>\n",
              "      <td>5.275202</td>\n",
              "      <td>2004</td>\n",
              "      <td>21~31</td>\n",
              "      <td>2.079442</td>\n",
              "      <td>120000.0</td>\n",
              "      <td>2008</td>\n",
              "      <td>1</td>\n",
              "    </tr>\n",
              "  </tbody>\n",
              "</table>\n",
              "</div>\n",
              "      <button class=\"colab-df-convert\" onclick=\"convertToInteractive('df-64802cee-70cd-434f-b4b7-bdd15c2ecc8a')\"\n",
              "              title=\"Convert this dataframe to an interactive table.\"\n",
              "              style=\"display:none;\">\n",
              "        \n",
              "  <svg xmlns=\"http://www.w3.org/2000/svg\" height=\"24px\"viewBox=\"0 0 24 24\"\n",
              "       width=\"24px\">\n",
              "    <path d=\"M0 0h24v24H0V0z\" fill=\"none\"/>\n",
              "    <path d=\"M18.56 5.44l.94 2.06.94-2.06 2.06-.94-2.06-.94-.94-2.06-.94 2.06-2.06.94zm-11 1L8.5 8.5l.94-2.06 2.06-.94-2.06-.94L8.5 2.5l-.94 2.06-2.06.94zm10 10l.94 2.06.94-2.06 2.06-.94-2.06-.94-.94-2.06-.94 2.06-2.06.94z\"/><path d=\"M17.41 7.96l-1.37-1.37c-.4-.4-.92-.59-1.43-.59-.52 0-1.04.2-1.43.59L10.3 9.45l-7.72 7.72c-.78.78-.78 2.05 0 2.83L4 21.41c.39.39.9.59 1.41.59.51 0 1.02-.2 1.41-.59l7.78-7.78 2.81-2.81c.8-.78.8-2.07 0-2.86zM5.41 20L4 18.59l7.72-7.72 1.47 1.35L5.41 20z\"/>\n",
              "  </svg>\n",
              "      </button>\n",
              "      \n",
              "  <style>\n",
              "    .colab-df-container {\n",
              "      display:flex;\n",
              "      flex-wrap:wrap;\n",
              "      gap: 12px;\n",
              "    }\n",
              "\n",
              "    .colab-df-convert {\n",
              "      background-color: #E8F0FE;\n",
              "      border: none;\n",
              "      border-radius: 50%;\n",
              "      cursor: pointer;\n",
              "      display: none;\n",
              "      fill: #1967D2;\n",
              "      height: 32px;\n",
              "      padding: 0 0 0 0;\n",
              "      width: 32px;\n",
              "    }\n",
              "\n",
              "    .colab-df-convert:hover {\n",
              "      background-color: #E2EBFA;\n",
              "      box-shadow: 0px 1px 2px rgba(60, 64, 67, 0.3), 0px 1px 3px 1px rgba(60, 64, 67, 0.15);\n",
              "      fill: #174EA6;\n",
              "    }\n",
              "\n",
              "    [theme=dark] .colab-df-convert {\n",
              "      background-color: #3B4455;\n",
              "      fill: #D2E3FC;\n",
              "    }\n",
              "\n",
              "    [theme=dark] .colab-df-convert:hover {\n",
              "      background-color: #434B5C;\n",
              "      box-shadow: 0px 1px 3px 1px rgba(0, 0, 0, 0.15);\n",
              "      filter: drop-shadow(0px 1px 2px rgba(0, 0, 0, 0.3));\n",
              "      fill: #FFFFFF;\n",
              "    }\n",
              "  </style>\n",
              "\n",
              "      <script>\n",
              "        const buttonEl =\n",
              "          document.querySelector('#df-64802cee-70cd-434f-b4b7-bdd15c2ecc8a button.colab-df-convert');\n",
              "        buttonEl.style.display =\n",
              "          google.colab.kernel.accessAllowed ? 'block' : 'none';\n",
              "\n",
              "        async function convertToInteractive(key) {\n",
              "          const element = document.querySelector('#df-64802cee-70cd-434f-b4b7-bdd15c2ecc8a');\n",
              "          const dataTable =\n",
              "            await google.colab.kernel.invokeFunction('convertToInteractive',\n",
              "                                                     [key], {});\n",
              "          if (!dataTable) return;\n",
              "\n",
              "          const docLinkHtml = 'Like what you see? Visit the ' +\n",
              "            '<a target=\"_blank\" href=https://colab.research.google.com/notebooks/data_table.ipynb>data table notebook</a>'\n",
              "            + ' to learn more about interactive tables.';\n",
              "          element.innerHTML = '';\n",
              "          dataTable['output_type'] = 'display_data';\n",
              "          await google.colab.output.renderOutput(dataTable, element);\n",
              "          const docLink = document.createElement('div');\n",
              "          docLink.innerHTML = docLinkHtml;\n",
              "          element.appendChild(docLink);\n",
              "        }\n",
              "      </script>\n",
              "    </div>\n",
              "  </div>\n",
              "  "
            ]
          },
          "metadata": {},
          "execution_count": 120
        }
      ]
    },
    {
      "cell_type": "code",
      "source": [
        "# 스케일링\n",
        "scaler = StandardScaler()\n",
        "\n",
        "numeric_feats = train.dtypes[train.dtypes != \"object\"].index\n",
        "numeric_feats_2 = test.dtypes[test.dtypes != \"object\"].index\n",
        "\n",
        "train[numeric_feats] = scaler.fit_transform(train[numeric_feats])\n",
        "test[numeric_feats_2] = scaler.fit_transform(test[numeric_feats_2])"
      ],
      "metadata": {
        "id": "uo_hZX_Ohumk"
      },
      "execution_count": 121,
      "outputs": []
    },
    {
      "cell_type": "code",
      "source": [
        "# 인코딩\n",
        "encoder = OrdinalEncoder()\n",
        "\n",
        "train = encoder.fit_transform(train) \n",
        "test = encoder.fit_transform(test) "
      ],
      "metadata": {
        "id": "sL5o9C_XcgaQ"
      },
      "execution_count": 122,
      "outputs": []
    },
    {
      "cell_type": "code",
      "source": [
        "k=train.shape[1]\n",
        "corrmat=train.corr()\n",
        "cols=corrmat.nlargest(k,'transaction_real_price')['transaction_real_price'].index\n",
        "cm=np.corrcoef(train[cols].values.T)\n",
        "f,ax=plt.subplots(figsize=(8,6))\n",
        "sns.heatmap(data=cm,annot=True,square=True,fmt='.2f',linewidths=5,cmap='Reds',yticklabels=cols.values,xticklabels=cols.values)\n"
      ],
      "metadata": {
        "colab": {
          "base_uri": "https://localhost:8080/",
          "height": 496
        },
        "id": "iayJebn9Erq0",
        "outputId": "b445107f-4563-4d1b-986c-cd89f45f4a2b"
      },
      "execution_count": 123,
      "outputs": [
        {
          "output_type": "execute_result",
          "data": {
            "text/plain": [
              "<matplotlib.axes._subplots.AxesSubplot at 0x7f5c33441880>"
            ]
          },
          "metadata": {},
          "execution_count": 123
        },
        {
          "output_type": "display_data",
          "data": {
            "text/plain": [
              "<Figure size 576x432 with 2 Axes>"
            ],
            "image/png": "[encoded data removed]"
          },
          "metadata": {
            "needs_background": "light"
          }
        }
      ]
    },
    {
      "cell_type": "code",
      "source": [
        "f,ax=plt.subplots(figsize=(8,6))\n",
        "sns.boxplot(train['year'],train['transaction_real_price'])\n",
        "plt.show()"
      ],
      "metadata": {
        "colab": {
          "base_uri": "https://localhost:8080/",
          "height": 388
        },
        "id": "FSzwVb1nq-UF",
        "outputId": "757afdd3-3a8f-4ff5-832a-3b0a62ac2b81"
      },
      "execution_count": 88,
      "outputs": [
        {
          "output_type": "display_data",
          "data": {
            "text/plain": [
              "<Figure size 576x432 with 1 Axes>"
            ],
            "image/png": "[encoded data removed]"
          },
          "metadata": {
            "needs_background": "light"
          }
        }
      ]
    },
    {
      "cell_type": "code",
      "source": [
        "f,ax=plt.subplots(figsize=(8,6))\n",
        "sns.boxplot(train['month'],train['transaction_real_price'])\n",
        "plt.show()"
      ],
      "metadata": {
        "colab": {
          "base_uri": "https://localhost:8080/",
          "height": 388
        },
        "id": "iLN9RGwcrduq",
        "outputId": "185f37ed-c616-40e5-d537-e4cb8d4bc766"
      },
      "execution_count": 89,
      "outputs": [
        {
          "output_type": "display_data",
          "data": {
            "text/plain": [
              "<Figure size 576x432 with 1 Axes>"
            ],
            "image/png": "[encoded data removed]"
          },
          "metadata": {
            "needs_background": "light"
          }
        }
      ]
    },
    {
      "cell_type": "code",
      "source": [
        "f,ax=plt.subplots(figsize=(24,6))\n",
        "sns.boxplot(train['year_of_completion'],train['transaction_real_price'])\n",
        "plt.show()"
      ],
      "metadata": {
        "colab": {
          "base_uri": "https://localhost:8080/",
          "height": 237
        },
        "id": "pyAekrpCrq6z",
        "outputId": "d8e7588b-befa-4574-aa45-791c505ab2ef"
      },
      "execution_count": 90,
      "outputs": [
        {
          "output_type": "display_data",
          "data": {
            "text/plain": [
              "<Figure size 1728x432 with 1 Axes>"
            ],
            "image/png": "[encoded data removed]"
          },
          "metadata": {
            "needs_background": "light"
          }
        }
      ]
    },
    {
      "cell_type": "code",
      "source": [
        "# 이상치 확인용용\n",
        "# train[train['year_of_completion']==1999].sort_values('transaction_real_price',ascending=True)"
      ],
      "metadata": {
        "id": "dg-fLc1Ir1fg"
      },
      "execution_count": 91,
      "outputs": []
    },
    {
      "cell_type": "code",
      "source": [
        "train.to_csv('/content/drive/MyDrive/02.Colab Notebooks/MiniProject_02/train_clean.csv', index=False, header=True)\n",
        "test.to_csv('/content/drive/MyDrive/02.Colab Notebooks/MiniProject_02/test_clean.csv', index=False, header=True)"
      ],
      "metadata": {
        "id": "jvCQhDTrqqq7"
      },
      "execution_count": 92,
      "outputs": []
    }
  ]
}