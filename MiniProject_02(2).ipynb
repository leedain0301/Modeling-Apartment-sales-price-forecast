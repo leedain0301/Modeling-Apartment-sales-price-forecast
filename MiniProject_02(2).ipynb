{
  "nbformat": 4,
  "nbformat_minor": 0,
  "metadata": {
    "colab": {
      "provenance": [],
      "mount_file_id": "16hdWR04Nw5u0Xs_9X2dfU8oRqbysGS1x",
      "authorship_tag": "ABX9TyPmYtE6QuJbhyE0nRfBXwB5",
      "include_colab_link": true
    },
    "kernelspec": {
      "name": "python3",
      "display_name": "Python 3"
    },
    "language_info": {
      "name": "python"
    }
  },
  "cells": [
    {
      "cell_type": "markdown",
      "metadata": {
        "id": "view-in-github",
        "colab_type": "text"
      },
      "source": [
        "<a href=\"https://colab.research.google.com/github/leedain0301/Data_MiniProject_02/blob/main/MiniProject_02(2).ipynb\" target=\"_parent\"><img src=\"https://colab.research.google.com/assets/colab-badge.svg\" alt=\"Open In Colab\"/></a>"
      ]
    },
    {
      "cell_type": "markdown",
      "source": [
        "# 컬럼 설명\n",
        "\n",
        "#   train.csv / test.csv <br>\n",
        ">  : 서울 지역의 740,000여개 거래 데이터, 아파트 거래일, 지역, 전용면적, 실 거래가 등의 정보\n",
        "\n",
        "- **features**\n",
        "  *   transaction_id : 아파트 거래 유일키키\n",
        "  *   apartment_id : 아파트 아이디\n",
        "  *   city : 도시\n",
        "  *   dong : 동\n",
        "  *   jibun : 지번\n",
        "  *   apt : 아파트단지 이름\n",
        "  *   addr_kr : 주소\n",
        "  *   exclusive_use_area : 전용면적\n",
        "  *   year_of_completion : 설립일자\n",
        "  *   transaction_year_month : 거래년월\n",
        "  *   transaction_date : 거래날짜\n",
        "  *   floor : 층\n",
        "  *   transaction_real_price : 실거래가(train 만 존재)\n",
        "\n",
        "\n",
        "#   park.csv<br>\n",
        ">  : 서울 지역의 공원에 대한 정보\n",
        "\n",
        "- **features**\n",
        "\n",
        "  *  city : 도시 이름\n",
        "  *  gu : 구\n",
        "  *  dong : 동\n",
        "  *  park_name : 공원 이름\n",
        "  *  park_type : 공원 이름\n",
        "  *  park_area : 공원의 넓이\n",
        "  *  park_exercise_facility : 공원보유 운동시설\n",
        "  *  park_entertainment_facility : 공원보유 유희시설\n",
        "  *  park_benefit_facility : 공원보유 편익시설\n",
        "  *  park_cultural_facitiy : 공원보유 교양시설\n",
        "  *  park_facility_other : 공원보유 기타시설\n",
        "  *  park_open_year : 공원 개장년도\n",
        "  *  reference_date : 데이터 기준일자(해당 데이터가 기록된 일자)\n",
        "\n",
        "\n",
        "\n",
        "<br>\n",
        "\n",
        "---\n",
        "\n",
        "<br>\n",
        "\n",
        "\n",
        "\n",
        "\n",
        "\n",
        "\n",
        "\n"
      ],
      "metadata": {
        "id": "Lqmt9_gArVC8"
      }
    },
    {
      "cell_type": "code",
      "source": [
        "!pip install category_encoders\n",
        "!pip3 install xgboost"
      ],
      "metadata": {
        "colab": {
          "base_uri": "https://localhost:8080/"
        },
        "outputId": "2f198ced-3df8-4bd1-9429-74f4022c10d7",
        "id": "cbWVnj78rVC9"
      },
      "execution_count": 2,
      "outputs": [
        {
          "output_type": "stream",
          "name": "stdout",
          "text": [
            "Looking in indexes: https://pypi.org/simple, https://us-python.pkg.dev/colab-wheels/public/simple/\n",
            "Requirement already satisfied: category_encoders in /usr/local/lib/python3.8/dist-packages (2.6.0)\n",
            "Requirement already satisfied: scipy>=1.0.0 in /usr/local/lib/python3.8/dist-packages (from category_encoders) (1.7.3)\n",
            "Requirement already satisfied: numpy>=1.14.0 in /usr/local/lib/python3.8/dist-packages (from category_encoders) (1.21.6)\n",
            "Requirement already satisfied: patsy>=0.5.1 in /usr/local/lib/python3.8/dist-packages (from category_encoders) (0.5.3)\n",
            "Requirement already satisfied: pandas>=1.0.5 in /usr/local/lib/python3.8/dist-packages (from category_encoders) (1.3.5)\n",
            "Requirement already satisfied: scikit-learn>=0.20.0 in /usr/local/lib/python3.8/dist-packages (from category_encoders) (1.0.2)\n",
            "Requirement already satisfied: statsmodels>=0.9.0 in /usr/local/lib/python3.8/dist-packages (from category_encoders) (0.12.2)\n",
            "Requirement already satisfied: python-dateutil>=2.7.3 in /usr/local/lib/python3.8/dist-packages (from pandas>=1.0.5->category_encoders) (2.8.2)\n",
            "Requirement already satisfied: pytz>=2017.3 in /usr/local/lib/python3.8/dist-packages (from pandas>=1.0.5->category_encoders) (2022.7.1)\n",
            "Requirement already satisfied: six in /usr/local/lib/python3.8/dist-packages (from patsy>=0.5.1->category_encoders) (1.15.0)\n",
            "Requirement already satisfied: threadpoolctl>=2.0.0 in /usr/local/lib/python3.8/dist-packages (from scikit-learn>=0.20.0->category_encoders) (3.1.0)\n",
            "Requirement already satisfied: joblib>=0.11 in /usr/local/lib/python3.8/dist-packages (from scikit-learn>=0.20.0->category_encoders) (1.2.0)\n",
            "Looking in indexes: https://pypi.org/simple, https://us-python.pkg.dev/colab-wheels/public/simple/\n",
            "Requirement already satisfied: xgboost in /usr/local/lib/python3.8/dist-packages (0.90)\n",
            "Requirement already satisfied: scipy in /usr/local/lib/python3.8/dist-packages (from xgboost) (1.7.3)\n",
            "Requirement already satisfied: numpy in /usr/local/lib/python3.8/dist-packages (from xgboost) (1.21.6)\n"
          ]
        }
      ]
    },
    {
      "cell_type": "code",
      "source": [
        "import numpy as np\n",
        "import pandas as pd\n",
        "import matplotlib.pyplot as plt\n",
        "import seaborn as sns\n",
        "import timeit\n",
        "import sklearn\n",
        "from sklearn.linear_model    import ElasticNet, Lasso\n",
        "from sklearn.ensemble        import GradientBoostingRegressor, RandomForestRegressor\n",
        "from sklearn.kernel_ridge    import KernelRidge\n",
        "from sklearn.pipeline        import make_pipeline\n",
        "from sklearn.preprocessing   import RobustScaler\n",
        "from sklearn.model_selection import KFold, cross_val_score, train_test_split\n",
        "from sklearn.metrics         import mean_squared_error, accuracy_score\n",
        "from sklearn.preprocessing   import StandardScaler\n",
        "from sklearn.impute          import SimpleImputer\n",
        "from category_encoders       import OrdinalEncoder\n",
        "from category_encoders       import OneHotEncoder, OrdinalEncoder\n",
        "\n",
        "import xgboost as XGBClassifier\n",
        "import lightgbm as lgb\n",
        "import warnings\n",
        "warnings.filterwarnings('ignore')\n",
        "import sys"
      ],
      "metadata": {
        "id": "cejg6R5vrVC9"
      },
      "execution_count": 3,
      "outputs": []
    },
    {
      "cell_type": "code",
      "execution_count": 4,
      "metadata": {
        "colab": {
          "base_uri": "https://localhost:8080/"
        },
        "outputId": "4863ec33-50ca-4f44-dfe4-96ec40d00dc7",
        "id": "6UyWbjvkrVC-"
      },
      "outputs": [
        {
          "output_type": "stream",
          "name": "stdout",
          "text": [
            "train.csv. Shape:  (593828, 9)\n",
            "test.csv. Shape:  (3911, 8)\n"
          ]
        }
      ],
      "source": [
        "train = pd.read_csv('/content/drive/MyDrive/02.Colab Notebooks/MiniProject_02/tarin_clean.csv')\n",
        "test = pd.read_csv('/content/drive/MyDrive/02.Colab Notebooks/MiniProject_02/test_clean.csv')\n",
        "submission_data = pd.read_csv('/content/drive/MyDrive/02.Colab Notebooks/MiniProject_02/submission.csv')\n",
        "\n",
        "print('train.csv. Shape: ',train.shape)\n",
        "print('test.csv. Shape: ', test.shape)"
      ]
    },
    {
      "cell_type": "code",
      "source": [
        "train = train.drop('Unnamed: 0', axis=1)\n",
        "test = test.drop('Unnamed: 0', axis=1)\n",
        "\n",
        "train.head()"
      ],
      "metadata": {
        "colab": {
          "base_uri": "https://localhost:8080/",
          "height": 339
        },
        "id": "sYcTn5fIsSY2",
        "outputId": "a87c52bf-b597-4d05-95b3-a07cad872b9e"
      },
      "execution_count": 5,
      "outputs": [
        {
          "output_type": "execute_result",
          "data": {
            "text/plain": [
              "  dong  exclusive_use_area  year_of_completion transaction_date     floor  \\\n",
              "0  상계동               59.95                1998            11~20  2.944439   \n",
              "1  쌍문동               84.53                1987            21~30  2.772589   \n",
              "2   창동               58.01                1990             1~10  2.833213   \n",
              "3  둔촌동               58.33                2004            11~20  2.639057   \n",
              "4  구로동               49.94                1987            21~31  2.197225   \n",
              "\n",
              "   transaction_real_price  year  month  \n",
              "0               10.221978  2008      3  \n",
              "1               10.288784  2009      9  \n",
              "2               10.165890  2008      5  \n",
              "3               10.034560  2009      1  \n",
              "4               10.146473  2015      8  "
            ],
            "text/html": [
              "\n",
              "  <div id=\"df-03347bb1-45a2-493f-89f8-d96752f38091\">\n",
              "    <div class=\"colab-df-container\">\n",
              "      <div>\n",
              "<style scoped>\n",
              "    .dataframe tbody tr th:only-of-type {\n",
              "        vertical-align: middle;\n",
              "    }\n",
              "\n",
              "    .dataframe tbody tr th {\n",
              "        vertical-align: top;\n",
              "    }\n",
              "\n",
              "    .dataframe thead th {\n",
              "        text-align: right;\n",
              "    }\n",
              "</style>\n",
              "<table border=\"1\" class=\"dataframe\">\n",
              "  <thead>\n",
              "    <tr style=\"text-align: right;\">\n",
              "      <th></th>\n",
              "      <th>dong</th>\n",
              "      <th>exclusive_use_area</th>\n",
              "      <th>year_of_completion</th>\n",
              "      <th>transaction_date</th>\n",
              "      <th>floor</th>\n",
              "      <th>transaction_real_price</th>\n",
              "      <th>year</th>\n",
              "      <th>month</th>\n",
              "    </tr>\n",
              "  </thead>\n",
              "  <tbody>\n",
              "    <tr>\n",
              "      <th>0</th>\n",
              "      <td>상계동</td>\n",
              "      <td>59.95</td>\n",
              "      <td>1998</td>\n",
              "      <td>11~20</td>\n",
              "      <td>2.944439</td>\n",
              "      <td>10.221978</td>\n",
              "      <td>2008</td>\n",
              "      <td>3</td>\n",
              "    </tr>\n",
              "    <tr>\n",
              "      <th>1</th>\n",
              "      <td>쌍문동</td>\n",
              "      <td>84.53</td>\n",
              "      <td>1987</td>\n",
              "      <td>21~30</td>\n",
              "      <td>2.772589</td>\n",
              "      <td>10.288784</td>\n",
              "      <td>2009</td>\n",
              "      <td>9</td>\n",
              "    </tr>\n",
              "    <tr>\n",
              "      <th>2</th>\n",
              "      <td>창동</td>\n",
              "      <td>58.01</td>\n",
              "      <td>1990</td>\n",
              "      <td>1~10</td>\n",
              "      <td>2.833213</td>\n",
              "      <td>10.165890</td>\n",
              "      <td>2008</td>\n",
              "      <td>5</td>\n",
              "    </tr>\n",
              "    <tr>\n",
              "      <th>3</th>\n",
              "      <td>둔촌동</td>\n",
              "      <td>58.33</td>\n",
              "      <td>2004</td>\n",
              "      <td>11~20</td>\n",
              "      <td>2.639057</td>\n",
              "      <td>10.034560</td>\n",
              "      <td>2009</td>\n",
              "      <td>1</td>\n",
              "    </tr>\n",
              "    <tr>\n",
              "      <th>4</th>\n",
              "      <td>구로동</td>\n",
              "      <td>49.94</td>\n",
              "      <td>1987</td>\n",
              "      <td>21~31</td>\n",
              "      <td>2.197225</td>\n",
              "      <td>10.146473</td>\n",
              "      <td>2015</td>\n",
              "      <td>8</td>\n",
              "    </tr>\n",
              "  </tbody>\n",
              "</table>\n",
              "</div>\n",
              "      <button class=\"colab-df-convert\" onclick=\"convertToInteractive('df-03347bb1-45a2-493f-89f8-d96752f38091')\"\n",
              "              title=\"Convert this dataframe to an interactive table.\"\n",
              "              style=\"display:none;\">\n",
              "        \n",
              "  <svg xmlns=\"http://www.w3.org/2000/svg\" height=\"24px\"viewBox=\"0 0 24 24\"\n",
              "       width=\"24px\">\n",
              "    <path d=\"M0 0h24v24H0V0z\" fill=\"none\"/>\n",
              "    <path d=\"M18.56 5.44l.94 2.06.94-2.06 2.06-.94-2.06-.94-.94-2.06-.94 2.06-2.06.94zm-11 1L8.5 8.5l.94-2.06 2.06-.94-2.06-.94L8.5 2.5l-.94 2.06-2.06.94zm10 10l.94 2.06.94-2.06 2.06-.94-2.06-.94-.94-2.06-.94 2.06-2.06.94z\"/><path d=\"M17.41 7.96l-1.37-1.37c-.4-.4-.92-.59-1.43-.59-.52 0-1.04.2-1.43.59L10.3 9.45l-7.72 7.72c-.78.78-.78 2.05 0 2.83L4 21.41c.39.39.9.59 1.41.59.51 0 1.02-.2 1.41-.59l7.78-7.78 2.81-2.81c.8-.78.8-2.07 0-2.86zM5.41 20L4 18.59l7.72-7.72 1.47 1.35L5.41 20z\"/>\n",
              "  </svg>\n",
              "      </button>\n",
              "      \n",
              "  <style>\n",
              "    .colab-df-container {\n",
              "      display:flex;\n",
              "      flex-wrap:wrap;\n",
              "      gap: 12px;\n",
              "    }\n",
              "\n",
              "    .colab-df-convert {\n",
              "      background-color: #E8F0FE;\n",
              "      border: none;\n",
              "      border-radius: 50%;\n",
              "      cursor: pointer;\n",
              "      display: none;\n",
              "      fill: #1967D2;\n",
              "      height: 32px;\n",
              "      padding: 0 0 0 0;\n",
              "      width: 32px;\n",
              "    }\n",
              "\n",
              "    .colab-df-convert:hover {\n",
              "      background-color: #E2EBFA;\n",
              "      box-shadow: 0px 1px 2px rgba(60, 64, 67, 0.3), 0px 1px 3px 1px rgba(60, 64, 67, 0.15);\n",
              "      fill: #174EA6;\n",
              "    }\n",
              "\n",
              "    [theme=dark] .colab-df-convert {\n",
              "      background-color: #3B4455;\n",
              "      fill: #D2E3FC;\n",
              "    }\n",
              "\n",
              "    [theme=dark] .colab-df-convert:hover {\n",
              "      background-color: #434B5C;\n",
              "      box-shadow: 0px 1px 3px 1px rgba(0, 0, 0, 0.15);\n",
              "      filter: drop-shadow(0px 1px 2px rgba(0, 0, 0, 0.3));\n",
              "      fill: #FFFFFF;\n",
              "    }\n",
              "  </style>\n",
              "\n",
              "      <script>\n",
              "        const buttonEl =\n",
              "          document.querySelector('#df-03347bb1-45a2-493f-89f8-d96752f38091 button.colab-df-convert');\n",
              "        buttonEl.style.display =\n",
              "          google.colab.kernel.accessAllowed ? 'block' : 'none';\n",
              "\n",
              "        async function convertToInteractive(key) {\n",
              "          const element = document.querySelector('#df-03347bb1-45a2-493f-89f8-d96752f38091');\n",
              "          const dataTable =\n",
              "            await google.colab.kernel.invokeFunction('convertToInteractive',\n",
              "                                                     [key], {});\n",
              "          if (!dataTable) return;\n",
              "\n",
              "          const docLinkHtml = 'Like what you see? Visit the ' +\n",
              "            '<a target=\"_blank\" href=https://colab.research.google.com/notebooks/data_table.ipynb>data table notebook</a>'\n",
              "            + ' to learn more about interactive tables.';\n",
              "          element.innerHTML = '';\n",
              "          dataTable['output_type'] = 'display_data';\n",
              "          await google.colab.output.renderOutput(dataTable, element);\n",
              "          const docLink = document.createElement('div');\n",
              "          docLink.innerHTML = docLinkHtml;\n",
              "          element.appendChild(docLink);\n",
              "        }\n",
              "      </script>\n",
              "    </div>\n",
              "  </div>\n",
              "  "
            ]
          },
          "metadata": {},
          "execution_count": 5
        }
      ]
    },
    {
      "cell_type": "code",
      "source": [
        "baseline_score = train['transaction_real_price'].value_counts(normalize=True).max()\n",
        "print(\"baseline score:\", baseline_score)"
      ],
      "metadata": {
        "colab": {
          "base_uri": "https://localhost:8080/"
        },
        "id": "by1Z3Phkv5u5",
        "outputId": "6c408dd5-70ef-4e7a-e281-5a69fbc862dc"
      },
      "execution_count": 6,
      "outputs": [
        {
          "output_type": "stream",
          "name": "stdout",
          "text": [
            "baseline score: 0.011016658022188243\n"
          ]
        }
      ]
    },
    {
      "cell_type": "markdown",
      "source": [
        "### **< 데이터셋 분리 >**\n",
        "\n",
        "---\n"
      ],
      "metadata": {
        "id": "AncDDE83qT0Z"
      }
    },
    {
      "cell_type": "code",
      "source": [
        "train, val = train_test_split(\n",
        "    train, train_size=0.80, test_size=0.20,  random_state=42\n",
        ")\n",
        "\n",
        "train.shape, val.shape, test.shape"
      ],
      "metadata": {
        "colab": {
          "base_uri": "https://localhost:8080/"
        },
        "id": "hHZrl4zd9dRj",
        "outputId": "08282fba-ee98-4fb5-9502-8c93e4a3c14e"
      },
      "execution_count": 7,
      "outputs": [
        {
          "output_type": "execute_result",
          "data": {
            "text/plain": [
              "((475062, 8), (118766, 8), (3911, 7))"
            ]
          },
          "metadata": {},
          "execution_count": 7
        }
      ]
    },
    {
      "cell_type": "code",
      "source": [
        "target = 'transaction_real_price'\n",
        "features = train.drop(columns=[target]).columns\n",
        "\n",
        "X_train = train[features]\n",
        "y_train = train[target]\n",
        "X_val = val[features]\n",
        "y_val = val[target]\n",
        "X_test = test[features]"
      ],
      "metadata": {
        "id": "SU804igWGfQm"
      },
      "execution_count": 8,
      "outputs": []
    },
    {
      "cell_type": "markdown",
      "source": [
        "### **< Data processing >**\n",
        "\n",
        "---\n"
      ],
      "metadata": {
        "id": "HopwfA0ghZ5G"
      }
    },
    {
      "cell_type": "code",
      "source": [
        "from sklearn.metrics import r2_score, mean_absolute_error\n",
        "from sklearn.metrics import classification_report, roc_auc_score\n",
        "from xgboost import XGBClassifier\n",
        "\n",
        "baseline = [y_train.mean()] * len(y_train)\n",
        "baseline_r2 = r2_score(y_train, baseline)\n",
        "baseline_mae = mean_absolute_error(y_train, baseline)\n",
        "print(f'기준모델의 r2_score: {baseline_r2}')\n",
        "print(f'기준모델의 mae : {baseline_mae}')"
      ],
      "metadata": {
        "colab": {
          "base_uri": "https://localhost:8080/"
        },
        "id": "AxPp9LDh5wUU",
        "outputId": "bbcaccec-09f4-4ced-ee51-f799754dddfb"
      },
      "execution_count": 9,
      "outputs": [
        {
          "output_type": "stream",
          "name": "stdout",
          "text": [
            "기준모델의 r2_score: 0.0\n",
            "기준모델의 mae : 0.42856806483177207\n"
          ]
        }
      ]
    },
    {
      "cell_type": "code",
      "source": [
        "encoder = OrdinalEncoder()\n",
        "X_train_encoded = encoder.fit_transform(X_train) \n",
        "X_val_encoded = encoder.transform(X_val) \n",
        "\n",
        "boosting = XGBClassifier(\n",
        "    n_estimators=500,\n",
        "    objective='reg:logistic',  # default\n",
        "    # learning_rate=0.2,\n",
        "    # subsample=0.8,\n",
        "    # colsample_bytree=0.8,\n",
        ")\n",
        "print(boosting)"
      ],
      "metadata": {
        "colab": {
          "base_uri": "https://localhost:8080/"
        },
        "id": "MGDbJKY71dyJ",
        "outputId": "8b5ab272-f62b-49b1-d3ee-5a5088bda29b"
      },
      "execution_count": 10,
      "outputs": [
        {
          "output_type": "stream",
          "name": "stdout",
          "text": [
            "XGBClassifier(n_estimators=500, objective='reg:logistic')\n"
          ]
        }
      ]
    },
    {
      "cell_type": "code",
      "source": [
        "boosting.fit(X_train_encoded, y_train)"
      ],
      "metadata": {
        "id": "Xrqd7aQKMypT"
      },
      "execution_count": null,
      "outputs": []
    },
    {
      "cell_type": "code",
      "source": [
        "y_pred_proba = boosting.predict_proba(\n",
        "    X_val_encoded, iteration_range=(0, boosting.best_iteration)\n",
        ")[:, 1]\n",
        "y_pred = boosting.predict(X_val_encoded, iteration_range=(0, boosting.best_iteration))\n",
        "print(\"검증 accuracy\", boosting.score(X_val_encoded, y_val))\n",
        "print(\"검증 AUC\", roc_auc_score(y_val, y_pred_proba))\n",
        "print(classification_report(y_val, y_pred))"
      ],
      "metadata": {
        "id": "A_I4asRz5om9"
      },
      "execution_count": null,
      "outputs": []
    },
    {
      "cell_type": "code",
      "source": [
        "k = train.shape[1] \n",
        "corrmat = train.corr() \n",
        "cols = corrmat.nlargest(k, 'transaction_real_price')['transaction_real_price'].index \n",
        "cm = np.corrcoef(train[cols].values.T)\n",
        "f, ax = plt.subplots(figsize = (20, 6))\n",
        "sns.heatmap(data = cm, \n",
        "            annot=True, \n",
        "            square=True, \n",
        "            fmt = '.2f', \n",
        "            linewidths=.5, \n",
        "            cmap='Reds', \n",
        "            yticklabels = cols.values, \n",
        "            xticklabels = cols.values\n",
        "            )"
      ],
      "metadata": {
        "id": "Qys2yaTJ8GrP"
      },
      "execution_count": null,
      "outputs": []
    }
  ]
}