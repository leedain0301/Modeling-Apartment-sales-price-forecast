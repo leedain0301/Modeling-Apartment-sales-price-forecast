{
  "cells": [
    {
      "cell_type": "markdown",
      "metadata": {
        "id": "view-in-github",
        "colab_type": "text"
      },
      "source": [
        "<a href=\"https://colab.research.google.com/github/leedain0301/Data_MiniProject_02/blob/main/MiniProject_02_%EB%AA%A8%EB%8D%B8%EB%A7%81.ipynb\" target=\"_parent\"><img src=\"https://colab.research.google.com/assets/colab-badge.svg\" alt=\"Open In Colab\"/></a>"
      ]
    },
    {
      "cell_type": "markdown",
      "metadata": {
        "id": "Lqmt9_gArVC8"
      },
      "source": [
        "# 컬럼 설명\n",
        "\n",
        "#   train.csv / test.csv <br>\n",
        ">  : 서울 지역의 740,000여개 거래 데이터, 아파트 거래일, 지역, 전용면적, 실 거래가 등의 정보\n",
        "\n",
        "- **features**\n",
        "  *   transaction_id : 아파트 거래 유일키키\n",
        "  *   apartment_id : 아파트 아이디\n",
        "  *   city : 도시\n",
        "  *   dong : 동\n",
        "  *   jibun : 지번\n",
        "  *   apt : 아파트단지 이름\n",
        "  *   addr_kr : 주소\n",
        "  *   exclusive_use_area : 전용면적\n",
        "  *   year_of_completion : 설립일자\n",
        "  *   transaction_year_month : 거래년월\n",
        "  *   transaction_date : 거래날짜\n",
        "  *   floor : 층\n",
        "  *   transaction_real_price : 실거래가(train 만 존재)\n",
        "\n",
        "\n",
        "\n",
        "<br>\n",
        "\n",
        "---\n",
        "\n",
        "<br>\n",
        "\n",
        "\n",
        "\n",
        "\n",
        "\n",
        "\n",
        "\n"
      ]
    },
    {
      "cell_type": "code",
      "execution_count": null,
      "metadata": {
        "colab": {
          "base_uri": "https://localhost:8080/"
        },
        "id": "cbWVnj78rVC9",
        "outputId": "257536fd-ed7f-4ff6-b35c-7cdc4ab2068a"
      },
      "outputs": [
        {
          "output_type": "stream",
          "name": "stdout",
          "text": [
            "Looking in indexes: https://pypi.org/simple, https://us-python.pkg.dev/colab-wheels/public/simple/\n",
            "Requirement already satisfied: category_encoders in /usr/local/lib/python3.8/dist-packages (2.6.0)\n",
            "Requirement already satisfied: patsy>=0.5.1 in /usr/local/lib/python3.8/dist-packages (from category_encoders) (0.5.3)\n",
            "Requirement already satisfied: scipy>=1.0.0 in /usr/local/lib/python3.8/dist-packages (from category_encoders) (1.7.3)\n",
            "Requirement already satisfied: scikit-learn>=0.20.0 in /usr/local/lib/python3.8/dist-packages (from category_encoders) (1.0.2)\n",
            "Requirement already satisfied: pandas>=1.0.5 in /usr/local/lib/python3.8/dist-packages (from category_encoders) (1.3.5)\n",
            "Requirement already satisfied: numpy>=1.14.0 in /usr/local/lib/python3.8/dist-packages (from category_encoders) (1.21.6)\n",
            "Requirement already satisfied: statsmodels>=0.9.0 in /usr/local/lib/python3.8/dist-packages (from category_encoders) (0.12.2)\n",
            "Requirement already satisfied: python-dateutil>=2.7.3 in /usr/local/lib/python3.8/dist-packages (from pandas>=1.0.5->category_encoders) (2.8.2)\n",
            "Requirement already satisfied: pytz>=2017.3 in /usr/local/lib/python3.8/dist-packages (from pandas>=1.0.5->category_encoders) (2022.7)\n",
            "Requirement already satisfied: six in /usr/local/lib/python3.8/dist-packages (from patsy>=0.5.1->category_encoders) (1.15.0)\n",
            "Requirement already satisfied: threadpoolctl>=2.0.0 in /usr/local/lib/python3.8/dist-packages (from scikit-learn>=0.20.0->category_encoders) (3.1.0)\n",
            "Requirement already satisfied: joblib>=0.11 in /usr/local/lib/python3.8/dist-packages (from scikit-learn>=0.20.0->category_encoders) (1.2.0)\n"
          ]
        }
      ],
      "source": [
        "!pip install category_encoders\n"
      ]
    },
    {
      "cell_type": "code",
      "execution_count": null,
      "metadata": {
        "id": "cejg6R5vrVC9"
      },
      "outputs": [],
      "source": [
        "import numpy as np\n",
        "import pandas as pd\n",
        "import matplotlib.pyplot as plt\n",
        "import seaborn as sns\n",
        "import timeit\n",
        "import sklearn\n",
        "from sklearn.linear_model    import ElasticNet, Lasso\n",
        "from sklearn.ensemble        import GradientBoostingRegressor, RandomForestRegressor\n",
        "from sklearn.kernel_ridge    import KernelRidge\n",
        "from sklearn.pipeline        import make_pipeline\n",
        "from sklearn.preprocessing   import RobustScaler\n",
        "from sklearn.model_selection import KFold, cross_val_score, train_test_split\n",
        "from sklearn.metrics         import mean_squared_error, accuracy_score\n",
        "from sklearn.preprocessing   import StandardScaler\n",
        "from sklearn.impute          import SimpleImputer\n",
        "from category_encoders       import OneHotEncoder, OrdinalEncoder\n",
        "from sklearn.ensemble        import RandomForestClassifier\n",
        "\n",
        "from xgboost.sklearn import XGBClassifier, XGBRegressor\n",
        "import lightgbm as lgb\n",
        "import warnings\n",
        "warnings.filterwarnings('ignore')\n",
        "import sys"
      ]
    },
    {
      "cell_type": "code",
      "execution_count": null,
      "metadata": {
        "colab": {
          "base_uri": "https://localhost:8080/"
        },
        "id": "6UyWbjvkrVC-",
        "outputId": "85ca38e6-7a42-4d23-9dc2-5d9ae5faeb93"
      },
      "outputs": [
        {
          "output_type": "stream",
          "name": "stdout",
          "text": [
            "train.csv. Shape:  (593828, 9)\n",
            "test.csv. Shape:  (3911, 8)\n"
          ]
        }
      ],
      "source": [
        "train = pd.read_csv('/content/drive/MyDrive/02.Colab Notebooks/MiniProject_02/tarin_clean.csv')\n",
        "test = pd.read_csv('/content/drive/MyDrive/02.Colab Notebooks/MiniProject_02/test_clean.csv')\n",
        "submission_data = pd.read_csv('/content/drive/MyDrive/02.Colab Notebooks/MiniProject_02/submission.csv')\n",
        "\n",
        "print('train.csv. Shape: ',train.shape)\n",
        "print('test.csv. Shape: ', test.shape)"
      ]
    },
    {
      "cell_type": "code",
      "execution_count": null,
      "metadata": {
        "colab": {
          "base_uri": "https://localhost:8080/",
          "height": 339
        },
        "id": "sYcTn5fIsSY2",
        "outputId": "5cd29ec4-7775-4515-c706-0e7a69238f82"
      },
      "outputs": [
        {
          "output_type": "execute_result",
          "data": {
            "text/plain": [
              "  dong  exclusive_use_area  year_of_completion transaction_date     floor  \\\n",
              "0  상계동               59.95                1998            11~20  2.944439   \n",
              "1  쌍문동               84.53                1987            21~30  2.772589   \n",
              "2   창동               58.01                1990             1~10  2.833213   \n",
              "3  둔촌동               58.33                2004            11~20  2.639057   \n",
              "4  구로동               49.94                1987            21~31  2.197225   \n",
              "\n",
              "   transaction_real_price  year  month  \n",
              "0               10.221978  2008      3  \n",
              "1               10.288784  2009      9  \n",
              "2               10.165890  2008      5  \n",
              "3               10.034560  2009      1  \n",
              "4               10.146473  2015      8  "
            ],
            "text/html": [
              "\n",
              "  <div id=\"df-f303dc1a-3a40-458b-81aa-00e4a55ad2df\">\n",
              "    <div class=\"colab-df-container\">\n",
              "      <div>\n",
              "<style scoped>\n",
              "    .dataframe tbody tr th:only-of-type {\n",
              "        vertical-align: middle;\n",
              "    }\n",
              "\n",
              "    .dataframe tbody tr th {\n",
              "        vertical-align: top;\n",
              "    }\n",
              "\n",
              "    .dataframe thead th {\n",
              "        text-align: right;\n",
              "    }\n",
              "</style>\n",
              "<table border=\"1\" class=\"dataframe\">\n",
              "  <thead>\n",
              "    <tr style=\"text-align: right;\">\n",
              "      <th></th>\n",
              "      <th>dong</th>\n",
              "      <th>exclusive_use_area</th>\n",
              "      <th>year_of_completion</th>\n",
              "      <th>transaction_date</th>\n",
              "      <th>floor</th>\n",
              "      <th>transaction_real_price</th>\n",
              "      <th>year</th>\n",
              "      <th>month</th>\n",
              "    </tr>\n",
              "  </thead>\n",
              "  <tbody>\n",
              "    <tr>\n",
              "      <th>0</th>\n",
              "      <td>상계동</td>\n",
              "      <td>59.95</td>\n",
              "      <td>1998</td>\n",
              "      <td>11~20</td>\n",
              "      <td>2.944439</td>\n",
              "      <td>10.221978</td>\n",
              "      <td>2008</td>\n",
              "      <td>3</td>\n",
              "    </tr>\n",
              "    <tr>\n",
              "      <th>1</th>\n",
              "      <td>쌍문동</td>\n",
              "      <td>84.53</td>\n",
              "      <td>1987</td>\n",
              "      <td>21~30</td>\n",
              "      <td>2.772589</td>\n",
              "      <td>10.288784</td>\n",
              "      <td>2009</td>\n",
              "      <td>9</td>\n",
              "    </tr>\n",
              "    <tr>\n",
              "      <th>2</th>\n",
              "      <td>창동</td>\n",
              "      <td>58.01</td>\n",
              "      <td>1990</td>\n",
              "      <td>1~10</td>\n",
              "      <td>2.833213</td>\n",
              "      <td>10.165890</td>\n",
              "      <td>2008</td>\n",
              "      <td>5</td>\n",
              "    </tr>\n",
              "    <tr>\n",
              "      <th>3</th>\n",
              "      <td>둔촌동</td>\n",
              "      <td>58.33</td>\n",
              "      <td>2004</td>\n",
              "      <td>11~20</td>\n",
              "      <td>2.639057</td>\n",
              "      <td>10.034560</td>\n",
              "      <td>2009</td>\n",
              "      <td>1</td>\n",
              "    </tr>\n",
              "    <tr>\n",
              "      <th>4</th>\n",
              "      <td>구로동</td>\n",
              "      <td>49.94</td>\n",
              "      <td>1987</td>\n",
              "      <td>21~31</td>\n",
              "      <td>2.197225</td>\n",
              "      <td>10.146473</td>\n",
              "      <td>2015</td>\n",
              "      <td>8</td>\n",
              "    </tr>\n",
              "  </tbody>\n",
              "</table>\n",
              "</div>\n",
              "      <button class=\"colab-df-convert\" onclick=\"convertToInteractive('df-f303dc1a-3a40-458b-81aa-00e4a55ad2df')\"\n",
              "              title=\"Convert this dataframe to an interactive table.\"\n",
              "              style=\"display:none;\">\n",
              "        \n",
              "  <svg xmlns=\"http://www.w3.org/2000/svg\" height=\"24px\"viewBox=\"0 0 24 24\"\n",
              "       width=\"24px\">\n",
              "    <path d=\"M0 0h24v24H0V0z\" fill=\"none\"/>\n",
              "    <path d=\"M18.56 5.44l.94 2.06.94-2.06 2.06-.94-2.06-.94-.94-2.06-.94 2.06-2.06.94zm-11 1L8.5 8.5l.94-2.06 2.06-.94-2.06-.94L8.5 2.5l-.94 2.06-2.06.94zm10 10l.94 2.06.94-2.06 2.06-.94-2.06-.94-.94-2.06-.94 2.06-2.06.94z\"/><path d=\"M17.41 7.96l-1.37-1.37c-.4-.4-.92-.59-1.43-.59-.52 0-1.04.2-1.43.59L10.3 9.45l-7.72 7.72c-.78.78-.78 2.05 0 2.83L4 21.41c.39.39.9.59 1.41.59.51 0 1.02-.2 1.41-.59l7.78-7.78 2.81-2.81c.8-.78.8-2.07 0-2.86zM5.41 20L4 18.59l7.72-7.72 1.47 1.35L5.41 20z\"/>\n",
              "  </svg>\n",
              "      </button>\n",
              "      \n",
              "  <style>\n",
              "    .colab-df-container {\n",
              "      display:flex;\n",
              "      flex-wrap:wrap;\n",
              "      gap: 12px;\n",
              "    }\n",
              "\n",
              "    .colab-df-convert {\n",
              "      background-color: #E8F0FE;\n",
              "      border: none;\n",
              "      border-radius: 50%;\n",
              "      cursor: pointer;\n",
              "      display: none;\n",
              "      fill: #1967D2;\n",
              "      height: 32px;\n",
              "      padding: 0 0 0 0;\n",
              "      width: 32px;\n",
              "    }\n",
              "\n",
              "    .colab-df-convert:hover {\n",
              "      background-color: #E2EBFA;\n",
              "      box-shadow: 0px 1px 2px rgba(60, 64, 67, 0.3), 0px 1px 3px 1px rgba(60, 64, 67, 0.15);\n",
              "      fill: #174EA6;\n",
              "    }\n",
              "\n",
              "    [theme=dark] .colab-df-convert {\n",
              "      background-color: #3B4455;\n",
              "      fill: #D2E3FC;\n",
              "    }\n",
              "\n",
              "    [theme=dark] .colab-df-convert:hover {\n",
              "      background-color: #434B5C;\n",
              "      box-shadow: 0px 1px 3px 1px rgba(0, 0, 0, 0.15);\n",
              "      filter: drop-shadow(0px 1px 2px rgba(0, 0, 0, 0.3));\n",
              "      fill: #FFFFFF;\n",
              "    }\n",
              "  </style>\n",
              "\n",
              "      <script>\n",
              "        const buttonEl =\n",
              "          document.querySelector('#df-f303dc1a-3a40-458b-81aa-00e4a55ad2df button.colab-df-convert');\n",
              "        buttonEl.style.display =\n",
              "          google.colab.kernel.accessAllowed ? 'block' : 'none';\n",
              "\n",
              "        async function convertToInteractive(key) {\n",
              "          const element = document.querySelector('#df-f303dc1a-3a40-458b-81aa-00e4a55ad2df');\n",
              "          const dataTable =\n",
              "            await google.colab.kernel.invokeFunction('convertToInteractive',\n",
              "                                                     [key], {});\n",
              "          if (!dataTable) return;\n",
              "\n",
              "          const docLinkHtml = 'Like what you see? Visit the ' +\n",
              "            '<a target=\"_blank\" href=https://colab.research.google.com/notebooks/data_table.ipynb>data table notebook</a>'\n",
              "            + ' to learn more about interactive tables.';\n",
              "          element.innerHTML = '';\n",
              "          dataTable['output_type'] = 'display_data';\n",
              "          await google.colab.output.renderOutput(dataTable, element);\n",
              "          const docLink = document.createElement('div');\n",
              "          docLink.innerHTML = docLinkHtml;\n",
              "          element.appendChild(docLink);\n",
              "        }\n",
              "      </script>\n",
              "    </div>\n",
              "  </div>\n",
              "  "
            ]
          },
          "metadata": {},
          "execution_count": 47
        }
      ],
      "source": [
        "train = train.drop('Unnamed: 0', axis=1)\n",
        "test = test.drop('Unnamed: 0', axis=1)\n",
        "# train['transaction_real_price'] = np.expm1(train['transaction_real_price'])\n",
        "train.head()"
      ]
    },
    {
      "cell_type": "code",
      "execution_count": null,
      "metadata": {
        "colab": {
          "base_uri": "https://localhost:8080/"
        },
        "id": "by1Z3Phkv5u5",
        "outputId": "985e85dc-5363-4435-e178-849501baaf1b"
      },
      "outputs": [
        {
          "output_type": "stream",
          "name": "stdout",
          "text": [
            "baseline score: 0.011016658022188243\n"
          ]
        }
      ],
      "source": [
        "baseline_score = train['transaction_real_price'].value_counts(normalize=True).max()\n",
        "print(\"baseline score:\", baseline_score)"
      ]
    },
    {
      "cell_type": "markdown",
      "metadata": {
        "id": "AncDDE83qT0Z"
      },
      "source": [
        "### **< 데이터셋 >**\n",
        "\n",
        "---\n"
      ]
    },
    {
      "cell_type": "code",
      "execution_count": null,
      "metadata": {
        "colab": {
          "base_uri": "https://localhost:8080/"
        },
        "id": "hHZrl4zd9dRj",
        "outputId": "d34485f4-5932-42d6-a5d9-70a6933fb1b1"
      },
      "outputs": [
        {
          "output_type": "execute_result",
          "data": {
            "text/plain": [
              "((475062, 8), (118766, 8), (3911, 7))"
            ]
          },
          "metadata": {},
          "execution_count": 49
        }
      ],
      "source": [
        "train, val = train_test_split(\n",
        "    train, train_size=0.80,  random_state=42\n",
        ")\n",
        "\n",
        "train.shape, val.shape, test.shape"
      ]
    },
    {
      "cell_type": "code",
      "source": [
        "train['exclusive_use_area']=train['exclusive_use_area'].astype(int)\n",
        "train['floor']=train['floor'].astype(int)\n",
        "\n",
        "test['exclusive_use_area']=test['exclusive_use_area'].astype(int)\n",
        "test['floor']=test['floor'].astype(int)"
      ],
      "metadata": {
        "id": "khyBU7ZAi9Oj"
      },
      "execution_count": null,
      "outputs": []
    },
    {
      "cell_type": "code",
      "execution_count": null,
      "metadata": {
        "id": "SU804igWGfQm"
      },
      "outputs": [],
      "source": [
        "target = 'transaction_real_price'\n",
        "features = train.drop(columns=[target]).columns\n",
        "\n",
        "X_train = train[features]\n",
        "y_train = train[target]\n",
        "X_val = val[features]\n",
        "y_val = val[target]\n",
        "X_test = test[features]"
      ]
    },
    {
      "cell_type": "markdown",
      "metadata": {
        "id": "HopwfA0ghZ5G"
      },
      "source": [
        "### **< Data processing >**\n",
        "\n",
        "---\n"
      ]
    },
    {
      "cell_type": "code",
      "source": [
        "encoder = OrdinalEncoder()\n",
        "X_train_encoded = encoder.fit_transform(X_train) \n",
        "X_val_encoded = encoder.transform(X_val) \n",
        "\n",
        "boosting = XGBRegressor(\n",
        "    n_estimators=100,\n",
        "    learning_rate=0.2,\n",
        "    subsample=0.8,\n",
        "    colsample_bytree=0.8,\n",
        ")\n",
        "\n",
        "eval_set = [(X_train_encoded, y_train), (X_val_encoded, y_val)]\n",
        "\n",
        "boosting.fit(X_train_encoded, y_train, eval_set=eval_set, early_stopping_rounds=50)"
      ],
      "metadata": {
        "colab": {
          "base_uri": "https://localhost:8080/"
        },
        "id": "O_Sqwltpck31",
        "outputId": "2b257302-7ce2-4474-c4c3-6296d582e932"
      },
      "execution_count": null,
      "outputs": [
        {
          "output_type": "stream",
          "name": "stdout",
          "text": [
            "[06:19:03] WARNING: /workspace/src/objective/regression_obj.cu:152: reg:linear is now deprecated in favor of reg:squarederror.\n",
            "[0]\tvalidation_0-rmse:8.1273\tvalidation_1-rmse:8.12289\n",
            "Multiple eval metrics have been passed: 'validation_1-rmse' will be used for early stopping.\n",
            "\n",
            "Will train until validation_1-rmse hasn't improved in 50 rounds.\n",
            "[1]\tvalidation_0-rmse:6.50572\tvalidation_1-rmse:6.49904\n",
            "[2]\tvalidation_0-rmse:5.21102\tvalidation_1-rmse:5.20422\n",
            "[3]\tvalidation_0-rmse:4.17572\tvalidation_1-rmse:4.16355\n",
            "[4]\tvalidation_0-rmse:3.34708\tvalidation_1-rmse:3.3343\n",
            "[5]\tvalidation_0-rmse:2.68545\tvalidation_1-rmse:2.67074\n",
            "[6]\tvalidation_0-rmse:2.15793\tvalidation_1-rmse:2.14278\n",
            "[7]\tvalidation_0-rmse:1.7382\tvalidation_1-rmse:1.72308\n",
            "[8]\tvalidation_0-rmse:1.4057\tvalidation_1-rmse:1.39068\n",
            "[9]\tvalidation_0-rmse:1.14181\tvalidation_1-rmse:1.12706\n",
            "[10]\tvalidation_0-rmse:0.934197\tvalidation_1-rmse:0.919737\n",
            "[11]\tvalidation_0-rmse:0.772593\tvalidation_1-rmse:0.758573\n",
            "[12]\tvalidation_0-rmse:0.647023\tvalidation_1-rmse:0.633585\n",
            "[13]\tvalidation_0-rmse:0.551405\tvalidation_1-rmse:0.538741\n",
            "[14]\tvalidation_0-rmse:0.480461\tvalidation_1-rmse:0.468882\n",
            "[15]\tvalidation_0-rmse:0.428325\tvalidation_1-rmse:0.417991\n",
            "[16]\tvalidation_0-rmse:0.390395\tvalidation_1-rmse:0.376681\n",
            "[17]\tvalidation_0-rmse:0.363344\tvalidation_1-rmse:0.352054\n",
            "[18]\tvalidation_0-rmse:0.344834\tvalidation_1-rmse:0.332265\n",
            "[19]\tvalidation_0-rmse:0.332593\tvalidation_1-rmse:0.321558\n",
            "[20]\tvalidation_0-rmse:0.323716\tvalidation_1-rmse:0.315663\n",
            "[21]\tvalidation_0-rmse:0.31591\tvalidation_1-rmse:0.310356\n",
            "[22]\tvalidation_0-rmse:0.311841\tvalidation_1-rmse:0.308512\n",
            "[23]\tvalidation_0-rmse:0.304975\tvalidation_1-rmse:0.303317\n",
            "[24]\tvalidation_0-rmse:0.298677\tvalidation_1-rmse:0.298504\n",
            "[25]\tvalidation_0-rmse:0.295657\tvalidation_1-rmse:0.296647\n",
            "[26]\tvalidation_0-rmse:0.293994\tvalidation_1-rmse:0.295858\n",
            "[27]\tvalidation_0-rmse:0.292691\tvalidation_1-rmse:0.29598\n",
            "[28]\tvalidation_0-rmse:0.28918\tvalidation_1-rmse:0.293179\n",
            "[29]\tvalidation_0-rmse:0.288399\tvalidation_1-rmse:0.293578\n",
            "[30]\tvalidation_0-rmse:0.287438\tvalidation_1-rmse:0.293088\n",
            "[31]\tvalidation_0-rmse:0.285123\tvalidation_1-rmse:0.291228\n",
            "[32]\tvalidation_0-rmse:0.28464\tvalidation_1-rmse:0.291388\n",
            "[33]\tvalidation_0-rmse:0.284185\tvalidation_1-rmse:0.291228\n",
            "[34]\tvalidation_0-rmse:0.28284\tvalidation_1-rmse:0.290118\n",
            "[35]\tvalidation_0-rmse:0.28222\tvalidation_1-rmse:0.289796\n",
            "[36]\tvalidation_0-rmse:0.280254\tvalidation_1-rmse:0.287915\n",
            "[37]\tvalidation_0-rmse:0.279509\tvalidation_1-rmse:0.287339\n",
            "[38]\tvalidation_0-rmse:0.277558\tvalidation_1-rmse:0.285515\n",
            "[39]\tvalidation_0-rmse:0.273851\tvalidation_1-rmse:0.282038\n",
            "[40]\tvalidation_0-rmse:0.273499\tvalidation_1-rmse:0.282137\n",
            "[41]\tvalidation_0-rmse:0.273077\tvalidation_1-rmse:0.282318\n",
            "[42]\tvalidation_0-rmse:0.272477\tvalidation_1-rmse:0.281706\n",
            "[43]\tvalidation_0-rmse:0.270561\tvalidation_1-rmse:0.279882\n",
            "[44]\tvalidation_0-rmse:0.270271\tvalidation_1-rmse:0.280221\n",
            "[45]\tvalidation_0-rmse:0.266809\tvalidation_1-rmse:0.277072\n",
            "[46]\tvalidation_0-rmse:0.26636\tvalidation_1-rmse:0.27664\n",
            "[47]\tvalidation_0-rmse:0.265907\tvalidation_1-rmse:0.276532\n",
            "[48]\tvalidation_0-rmse:0.265359\tvalidation_1-rmse:0.276082\n",
            "[49]\tvalidation_0-rmse:0.263125\tvalidation_1-rmse:0.274034\n",
            "[50]\tvalidation_0-rmse:0.262122\tvalidation_1-rmse:0.273102\n",
            "[51]\tvalidation_0-rmse:0.261505\tvalidation_1-rmse:0.272542\n",
            "[52]\tvalidation_0-rmse:0.261323\tvalidation_1-rmse:0.272459\n",
            "[53]\tvalidation_0-rmse:0.260237\tvalidation_1-rmse:0.27144\n",
            "[54]\tvalidation_0-rmse:0.258492\tvalidation_1-rmse:0.269764\n",
            "[55]\tvalidation_0-rmse:0.258045\tvalidation_1-rmse:0.269277\n",
            "[56]\tvalidation_0-rmse:0.257699\tvalidation_1-rmse:0.268951\n",
            "[57]\tvalidation_0-rmse:0.256345\tvalidation_1-rmse:0.267665\n",
            "[58]\tvalidation_0-rmse:0.255974\tvalidation_1-rmse:0.267347\n",
            "[59]\tvalidation_0-rmse:0.255762\tvalidation_1-rmse:0.267099\n",
            "[60]\tvalidation_0-rmse:0.254493\tvalidation_1-rmse:0.265937\n",
            "[61]\tvalidation_0-rmse:0.253226\tvalidation_1-rmse:0.264779\n",
            "[62]\tvalidation_0-rmse:0.251724\tvalidation_1-rmse:0.263299\n",
            "[63]\tvalidation_0-rmse:0.250232\tvalidation_1-rmse:0.261838\n",
            "[64]\tvalidation_0-rmse:0.250077\tvalidation_1-rmse:0.261859\n",
            "[65]\tvalidation_0-rmse:0.248784\tvalidation_1-rmse:0.260556\n",
            "[66]\tvalidation_0-rmse:0.248612\tvalidation_1-rmse:0.260492\n",
            "[67]\tvalidation_0-rmse:0.248296\tvalidation_1-rmse:0.260166\n",
            "[68]\tvalidation_0-rmse:0.248075\tvalidation_1-rmse:0.259957\n",
            "[69]\tvalidation_0-rmse:0.245908\tvalidation_1-rmse:0.25777\n",
            "[70]\tvalidation_0-rmse:0.245748\tvalidation_1-rmse:0.25761\n",
            "[71]\tvalidation_0-rmse:0.244862\tvalidation_1-rmse:0.256712\n",
            "[72]\tvalidation_0-rmse:0.244715\tvalidation_1-rmse:0.256545\n",
            "[73]\tvalidation_0-rmse:0.241869\tvalidation_1-rmse:0.253854\n",
            "[74]\tvalidation_0-rmse:0.241194\tvalidation_1-rmse:0.253229\n",
            "[75]\tvalidation_0-rmse:0.239985\tvalidation_1-rmse:0.252059\n",
            "[76]\tvalidation_0-rmse:0.239402\tvalidation_1-rmse:0.251437\n",
            "[77]\tvalidation_0-rmse:0.23925\tvalidation_1-rmse:0.251303\n",
            "[78]\tvalidation_0-rmse:0.239039\tvalidation_1-rmse:0.251214\n",
            "[79]\tvalidation_0-rmse:0.238149\tvalidation_1-rmse:0.250365\n",
            "[80]\tvalidation_0-rmse:0.238052\tvalidation_1-rmse:0.250262\n",
            "[81]\tvalidation_0-rmse:0.237904\tvalidation_1-rmse:0.25017\n",
            "[82]\tvalidation_0-rmse:0.23654\tvalidation_1-rmse:0.248942\n",
            "[83]\tvalidation_0-rmse:0.235926\tvalidation_1-rmse:0.248352\n",
            "[84]\tvalidation_0-rmse:0.235026\tvalidation_1-rmse:0.247549\n",
            "[85]\tvalidation_0-rmse:0.234526\tvalidation_1-rmse:0.247059\n",
            "[86]\tvalidation_0-rmse:0.233115\tvalidation_1-rmse:0.245682\n",
            "[87]\tvalidation_0-rmse:0.23288\tvalidation_1-rmse:0.245414\n",
            "[88]\tvalidation_0-rmse:0.23275\tvalidation_1-rmse:0.24533\n",
            "[89]\tvalidation_0-rmse:0.231808\tvalidation_1-rmse:0.244467\n",
            "[90]\tvalidation_0-rmse:0.23133\tvalidation_1-rmse:0.244011\n",
            "[91]\tvalidation_0-rmse:0.230639\tvalidation_1-rmse:0.243389\n",
            "[92]\tvalidation_0-rmse:0.230421\tvalidation_1-rmse:0.243103\n",
            "[93]\tvalidation_0-rmse:0.229871\tvalidation_1-rmse:0.242537\n",
            "[94]\tvalidation_0-rmse:0.229449\tvalidation_1-rmse:0.242126\n",
            "[95]\tvalidation_0-rmse:0.22934\tvalidation_1-rmse:0.242019\n",
            "[96]\tvalidation_0-rmse:0.228605\tvalidation_1-rmse:0.241276\n",
            "[97]\tvalidation_0-rmse:0.226906\tvalidation_1-rmse:0.239674\n",
            "[98]\tvalidation_0-rmse:0.226586\tvalidation_1-rmse:0.239464\n",
            "[99]\tvalidation_0-rmse:0.225555\tvalidation_1-rmse:0.238402\n"
          ]
        },
        {
          "output_type": "execute_result",
          "data": {
            "text/plain": [
              "XGBRegressor(colsample_bytree=0.8, learning_rate=0.2, subsample=0.8)"
            ]
          },
          "metadata": {},
          "execution_count": 52
        }
      ]
    },
    {
      "cell_type": "code",
      "source": [
        "print(\"검증 accuracy\", boosting.score(X_val_encoded, y_val))"
      ],
      "metadata": {
        "colab": {
          "base_uri": "https://localhost:8080/"
        },
        "id": "NVXDv2Pdn8tL",
        "outputId": "06661c7f-5a05-4e15-9fca-9211228fa790"
      },
      "execution_count": null,
      "outputs": [
        {
          "output_type": "stream",
          "name": "stdout",
          "text": [
            "검증 accuracy 0.8111997094582533\n"
          ]
        }
      ]
    },
    {
      "cell_type": "code",
      "source": [
        "from sklearn.linear_model import LogisticRegression\n",
        "\n",
        "lr_clf = LogisticRegression()\n",
        "lr_clf.fit(X_train_encoded, y_train)"
      ],
      "metadata": {
        "colab": {
          "base_uri": "https://localhost:8080/",
          "height": 363
        },
        "id": "mzADV4ZLoyvP",
        "outputId": "8627cbe5-6db1-489f-ccd9-cedb5841614a"
      },
      "execution_count": null,
      "outputs": [
        {
          "output_type": "error",
          "ename": "ValueError",
          "evalue": "ignored",
          "traceback": [
            "\u001b[0;31m---------------------------------------------------------------------------\u001b[0m",
            "\u001b[0;31mValueError\u001b[0m                                Traceback (most recent call last)",
            "\u001b[0;32m<ipython-input-54-3269eb9e82a3>\u001b[0m in \u001b[0;36m<module>\u001b[0;34m\u001b[0m\n\u001b[1;32m      2\u001b[0m \u001b[0;34m\u001b[0m\u001b[0m\n\u001b[1;32m      3\u001b[0m \u001b[0mlr_clf\u001b[0m \u001b[0;34m=\u001b[0m \u001b[0mLogisticRegression\u001b[0m\u001b[0;34m(\u001b[0m\u001b[0;34m)\u001b[0m\u001b[0;34m\u001b[0m\u001b[0;34m\u001b[0m\u001b[0m\n\u001b[0;32m----> 4\u001b[0;31m \u001b[0mlr_clf\u001b[0m\u001b[0;34m.\u001b[0m\u001b[0mfit\u001b[0m\u001b[0;34m(\u001b[0m\u001b[0mX_train_encoded\u001b[0m\u001b[0;34m,\u001b[0m \u001b[0my_train\u001b[0m\u001b[0;34m)\u001b[0m\u001b[0;34m\u001b[0m\u001b[0;34m\u001b[0m\u001b[0m\n\u001b[0m",
            "\u001b[0;32m/usr/local/lib/python3.8/dist-packages/sklearn/linear_model/_logistic.py\u001b[0m in \u001b[0;36mfit\u001b[0;34m(self, X, y, sample_weight)\u001b[0m\n\u001b[1;32m   1514\u001b[0m             \u001b[0maccept_large_sparse\u001b[0m\u001b[0;34m=\u001b[0m\u001b[0msolver\u001b[0m \u001b[0;32mnot\u001b[0m \u001b[0;32min\u001b[0m \u001b[0;34m[\u001b[0m\u001b[0;34m\"liblinear\"\u001b[0m\u001b[0;34m,\u001b[0m \u001b[0;34m\"sag\"\u001b[0m\u001b[0;34m,\u001b[0m \u001b[0;34m\"saga\"\u001b[0m\u001b[0;34m]\u001b[0m\u001b[0;34m,\u001b[0m\u001b[0;34m\u001b[0m\u001b[0;34m\u001b[0m\u001b[0m\n\u001b[1;32m   1515\u001b[0m         )\n\u001b[0;32m-> 1516\u001b[0;31m         \u001b[0mcheck_classification_targets\u001b[0m\u001b[0;34m(\u001b[0m\u001b[0my\u001b[0m\u001b[0;34m)\u001b[0m\u001b[0;34m\u001b[0m\u001b[0;34m\u001b[0m\u001b[0m\n\u001b[0m\u001b[1;32m   1517\u001b[0m         \u001b[0mself\u001b[0m\u001b[0;34m.\u001b[0m\u001b[0mclasses_\u001b[0m \u001b[0;34m=\u001b[0m \u001b[0mnp\u001b[0m\u001b[0;34m.\u001b[0m\u001b[0munique\u001b[0m\u001b[0;34m(\u001b[0m\u001b[0my\u001b[0m\u001b[0;34m)\u001b[0m\u001b[0;34m\u001b[0m\u001b[0;34m\u001b[0m\u001b[0m\n\u001b[1;32m   1518\u001b[0m \u001b[0;34m\u001b[0m\u001b[0m\n",
            "\u001b[0;32m/usr/local/lib/python3.8/dist-packages/sklearn/utils/multiclass.py\u001b[0m in \u001b[0;36mcheck_classification_targets\u001b[0;34m(y)\u001b[0m\n\u001b[1;32m    195\u001b[0m         \u001b[0;34m\"multilabel-sequences\"\u001b[0m\u001b[0;34m,\u001b[0m\u001b[0;34m\u001b[0m\u001b[0;34m\u001b[0m\u001b[0m\n\u001b[1;32m    196\u001b[0m     ]:\n\u001b[0;32m--> 197\u001b[0;31m         \u001b[0;32mraise\u001b[0m \u001b[0mValueError\u001b[0m\u001b[0;34m(\u001b[0m\u001b[0;34m\"Unknown label type: %r\"\u001b[0m \u001b[0;34m%\u001b[0m \u001b[0my_type\u001b[0m\u001b[0;34m)\u001b[0m\u001b[0;34m\u001b[0m\u001b[0;34m\u001b[0m\u001b[0m\n\u001b[0m\u001b[1;32m    198\u001b[0m \u001b[0;34m\u001b[0m\u001b[0m\n\u001b[1;32m    199\u001b[0m \u001b[0;34m\u001b[0m\u001b[0m\n",
            "\u001b[0;31mValueError\u001b[0m: Unknown label type: 'continuous'"
          ]
        }
      ]
    }
  ],
  "metadata": {
    "colab": {
      "provenance": [],
      "mount_file_id": "1i6iGc_QW85VuwAKMK7aJ7UB0Ve8NMlVD",
      "authorship_tag": "ABX9TyP00/tze5YdBu/H1xdT6dQf",
      "include_colab_link": true
    },
    "kernelspec": {
      "display_name": "Python 3",
      "name": "python3"
    },
    "language_info": {
      "name": "python"
    }
  },
  "nbformat": 4,
  "nbformat_minor": 0
}